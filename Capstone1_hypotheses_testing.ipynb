{
 "cells": [
  {
   "cell_type": "markdown",
   "id": "994021ae",
   "metadata": {},
   "source": [
    "# California K-12 Public Schools\n",
    "## Meeting the Standards Projection"
   ]
  },
  {
   "cell_type": "code",
   "execution_count": null,
   "id": "2ab5e61e",
   "metadata": {},
   "outputs": [],
   "source": [
    "# add image"
   ]
  },
  {
   "cell_type": "code",
   "execution_count": null,
   "id": "ce063564",
   "metadata": {},
   "outputs": [],
   "source": [
    "# load packages"
   ]
  },
  {
   "cell_type": "code",
   "execution_count": null,
   "id": "75452f1a",
   "metadata": {},
   "outputs": [],
   "source": [
    "# load csv files"
   ]
  },
  {
   "cell_type": "code",
   "execution_count": null,
   "id": "be2733fb",
   "metadata": {},
   "outputs": [],
   "source": [
    "# write down hypotheses\n",
    "# plot"
   ]
  },
  {
   "cell_type": "code",
   "execution_count": null,
   "id": "2d74778f",
   "metadata": {},
   "outputs": [],
   "source": [
    "# test hypotheses"
   ]
  },
  {
   "cell_type": "code",
   "execution_count": null,
   "id": "9b098747",
   "metadata": {},
   "outputs": [],
   "source": []
  }
 ],
 "metadata": {
  "kernelspec": {
   "display_name": "Python 3",
   "language": "python",
   "name": "python3"
  },
  "language_info": {
   "codemirror_mode": {
    "name": "ipython",
    "version": 3
   },
   "file_extension": ".py",
   "mimetype": "text/x-python",
   "name": "python",
   "nbconvert_exporter": "python",
   "pygments_lexer": "ipython3",
   "version": "3.7.6"
  }
 },
 "nbformat": 4,
 "nbformat_minor": 5
}
