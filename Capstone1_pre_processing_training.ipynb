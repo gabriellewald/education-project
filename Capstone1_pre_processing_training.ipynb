{
 "cells": [
  {
   "cell_type": "markdown",
   "metadata": {},
   "source": [
    "<h2><center>California K-12 Public Schools</center></h2>\n",
    "<h1><center>Meeting the Standards Projection</center></h1>\n",
    "\n",
    "\n",
    "   <img src='images/shutterstock_213333985.jpeg' width=\"700\">\n",
    "   \n",
    "   **Credit:**  [shutterstock](https://www.shutterstock.com/image-photo/school-books-on-desk-education-concept-213333985)\n"
   ]
  },
  {
   "cell_type": "code",
   "execution_count": 86,
   "metadata": {},
   "outputs": [],
   "source": [
    "# Load relevant packages\n",
    "import pandas as pd\n",
    "import numpy as np\n",
    "import matplotlib.pyplot as plt\n",
    "import seaborn as sns\n",
    "import statsmodels.formula.api as sm\n",
    "import warnings\n",
    "\n",
    "warnings.filterwarnings(\"ignore\")  # Suppress all warnings\n",
    "\n",
    "\n",
    "# special IPython command to prepare the notebook for matplotlib and other libraries\n",
    "%matplotlib inline \n",
    "import scipy.stats as stats\n",
    "import sklearn\n",
    "\n",
    "# special matplotlib argument for improved plots\n",
    "from matplotlib import rcParams\n",
    "sns.set_context(\"poster\")\n",
    "sns.set(style='ticks')\n",
    "\n",
    "# Modeling\n",
    "from sklearn import linear_model, preprocessing\n",
    "from sklearn.metrics import r2_score, mean_squared_error, mean_absolute_error\n",
    "\n",
    "import statsmodels.api as sm \n",
    "from statsmodels.graphics.api import abline_plot\n",
    "from sklearn.feature_selection import SelectKBest, f_regression\n",
    "from sklearn.pipeline import make_pipeline\n",
    "from sklearn.preprocessing import StandardScaler, MinMaxScaler\n",
    "from sklearn.linear_model import LinearRegression\n",
    "from sklearn.model_selection import train_test_split, cross_validate, GridSearchCV, learning_curve\n",
    "from sklearn.ensemble import RandomForestRegressor"
   ]
  },
  {
   "cell_type": "code",
   "execution_count": 2,
   "metadata": {
    "scrolled": false
   },
   "outputs": [
    {
     "data": {
      "text/html": [
       "<div>\n",
       "<style scoped>\n",
       "    .dataframe tbody tr th:only-of-type {\n",
       "        vertical-align: middle;\n",
       "    }\n",
       "\n",
       "    .dataframe tbody tr th {\n",
       "        vertical-align: top;\n",
       "    }\n",
       "\n",
       "    .dataframe thead th {\n",
       "        text-align: right;\n",
       "    }\n",
       "</style>\n",
       "<table border=\"1\" class=\"dataframe\">\n",
       "  <thead>\n",
       "    <tr style=\"text-align: right;\">\n",
       "      <th></th>\n",
       "      <th>0</th>\n",
       "      <th>1</th>\n",
       "      <th>2</th>\n",
       "      <th>3</th>\n",
       "      <th>4</th>\n",
       "    </tr>\n",
       "  </thead>\n",
       "  <tbody>\n",
       "    <tr>\n",
       "      <th>School Name</th>\n",
       "      <td>21st Century Learning Institute</td>\n",
       "      <td>A. E. Arnold Elementary</td>\n",
       "      <td>A. G. Cook Elementary</td>\n",
       "      <td>A. G. Currie Middle</td>\n",
       "      <td>A. J. Dorsa Elementary</td>\n",
       "    </tr>\n",
       "    <tr>\n",
       "      <th>School Code</th>\n",
       "      <td>129882</td>\n",
       "      <td>6027767</td>\n",
       "      <td>6028211</td>\n",
       "      <td>6085377</td>\n",
       "      <td>6046114</td>\n",
       "    </tr>\n",
       "    <tr>\n",
       "      <th>Zip Code</th>\n",
       "      <td>92223</td>\n",
       "      <td>90630</td>\n",
       "      <td>92844</td>\n",
       "      <td>92780</td>\n",
       "      <td>95122</td>\n",
       "    </tr>\n",
       "    <tr>\n",
       "      <th>County Name</th>\n",
       "      <td>Riverside</td>\n",
       "      <td>Orange</td>\n",
       "      <td>Orange</td>\n",
       "      <td>Orange</td>\n",
       "      <td>Santa Clara</td>\n",
       "    </tr>\n",
       "    <tr>\n",
       "      <th>County Code</th>\n",
       "      <td>33.0</td>\n",
       "      <td>30.0</td>\n",
       "      <td>30.0</td>\n",
       "      <td>30.0</td>\n",
       "      <td>43.0</td>\n",
       "    </tr>\n",
       "    <tr>\n",
       "      <th>Latitude</th>\n",
       "      <td>33.962281</td>\n",
       "      <td>33.8249</td>\n",
       "      <td>33.7777</td>\n",
       "      <td>33.7431</td>\n",
       "      <td>37.369388</td>\n",
       "    </tr>\n",
       "    <tr>\n",
       "      <th>Longitude</th>\n",
       "      <td>-116.984589</td>\n",
       "      <td>-118.0457</td>\n",
       "      <td>-117.953</td>\n",
       "      <td>-117.8249</td>\n",
       "      <td>-121.83356</td>\n",
       "    </tr>\n",
       "    <tr>\n",
       "      <th>Median Household Income</th>\n",
       "      <td>64738.0</td>\n",
       "      <td>84051.0</td>\n",
       "      <td>48345.0</td>\n",
       "      <td>64089.0</td>\n",
       "      <td>57470.0</td>\n",
       "    </tr>\n",
       "    <tr>\n",
       "      <th>CAASPP Reported Enrollment</th>\n",
       "      <td>58.0</td>\n",
       "      <td>447.0</td>\n",
       "      <td>192.0</td>\n",
       "      <td>585.0</td>\n",
       "      <td>184.0</td>\n",
       "    </tr>\n",
       "    <tr>\n",
       "      <th>CAASPP Reported Enrollment-Dummy</th>\n",
       "      <td>1</td>\n",
       "      <td>1</td>\n",
       "      <td>1</td>\n",
       "      <td>1</td>\n",
       "      <td>1</td>\n",
       "    </tr>\n",
       "    <tr>\n",
       "      <th>Enrollment K-12</th>\n",
       "      <td>88.0</td>\n",
       "      <td>739.0</td>\n",
       "      <td>366.0</td>\n",
       "      <td>611.0</td>\n",
       "      <td>371.0</td>\n",
       "    </tr>\n",
       "    <tr>\n",
       "      <th>Enrollment K-12-Dummy</th>\n",
       "      <td>1</td>\n",
       "      <td>1</td>\n",
       "      <td>1</td>\n",
       "      <td>1</td>\n",
       "      <td>1</td>\n",
       "    </tr>\n",
       "    <tr>\n",
       "      <th>Total Revenue per Pupil</th>\n",
       "      <td>12626.0</td>\n",
       "      <td>13641.0</td>\n",
       "      <td>14695.0</td>\n",
       "      <td>13166.0</td>\n",
       "      <td>14788.0</td>\n",
       "    </tr>\n",
       "    <tr>\n",
       "      <th>Total Expenditures per Pupil</th>\n",
       "      <td>14449.0</td>\n",
       "      <td>11589.0</td>\n",
       "      <td>16663.0</td>\n",
       "      <td>12601.0</td>\n",
       "      <td>15286.0</td>\n",
       "    </tr>\n",
       "    <tr>\n",
       "      <th>Free Meal Count K-12</th>\n",
       "      <td>41.0</td>\n",
       "      <td>246.0</td>\n",
       "      <td>187.0</td>\n",
       "      <td>422.0</td>\n",
       "      <td>262.0</td>\n",
       "    </tr>\n",
       "    <tr>\n",
       "      <th>Current Expense Per ADA</th>\n",
       "      <td>11384.420846</td>\n",
       "      <td>10758.663825</td>\n",
       "      <td>12964.4477</td>\n",
       "      <td>10744.324251</td>\n",
       "      <td>15524.553854</td>\n",
       "    </tr>\n",
       "    <tr>\n",
       "      <th>Male</th>\n",
       "      <td>44.83</td>\n",
       "      <td>52.13</td>\n",
       "      <td>44.79</td>\n",
       "      <td>52.82</td>\n",
       "      <td>50.0</td>\n",
       "    </tr>\n",
       "    <tr>\n",
       "      <th>Male-Dummy</th>\n",
       "      <td>1</td>\n",
       "      <td>1</td>\n",
       "      <td>1</td>\n",
       "      <td>1</td>\n",
       "      <td>1</td>\n",
       "    </tr>\n",
       "    <tr>\n",
       "      <th>Female</th>\n",
       "      <td>55.17</td>\n",
       "      <td>47.87</td>\n",
       "      <td>55.21</td>\n",
       "      <td>47.18</td>\n",
       "      <td>50.0</td>\n",
       "    </tr>\n",
       "    <tr>\n",
       "      <th>Female-Dummy</th>\n",
       "      <td>1</td>\n",
       "      <td>1</td>\n",
       "      <td>1</td>\n",
       "      <td>1</td>\n",
       "      <td>1</td>\n",
       "    </tr>\n",
       "    <tr>\n",
       "      <th>Military</th>\n",
       "      <td>-1.0</td>\n",
       "      <td>0.0</td>\n",
       "      <td>12.5</td>\n",
       "      <td>-1.0</td>\n",
       "      <td>-1.0</td>\n",
       "    </tr>\n",
       "    <tr>\n",
       "      <th>Military-Dummy</th>\n",
       "      <td>0</td>\n",
       "      <td>0</td>\n",
       "      <td>1</td>\n",
       "      <td>0</td>\n",
       "      <td>0</td>\n",
       "    </tr>\n",
       "    <tr>\n",
       "      <th>Non Military</th>\n",
       "      <td>100.0</td>\n",
       "      <td>99.78</td>\n",
       "      <td>87.5</td>\n",
       "      <td>100.0</td>\n",
       "      <td>100.0</td>\n",
       "    </tr>\n",
       "    <tr>\n",
       "      <th>Non Military-Dummy</th>\n",
       "      <td>1</td>\n",
       "      <td>1</td>\n",
       "      <td>1</td>\n",
       "      <td>1</td>\n",
       "      <td>1</td>\n",
       "    </tr>\n",
       "    <tr>\n",
       "      <th>Homeless</th>\n",
       "      <td>-1.0</td>\n",
       "      <td>9.84</td>\n",
       "      <td>3.65</td>\n",
       "      <td>5.81</td>\n",
       "      <td>-1.0</td>\n",
       "    </tr>\n",
       "    <tr>\n",
       "      <th>Homeless-Dummy</th>\n",
       "      <td>0</td>\n",
       "      <td>1</td>\n",
       "      <td>1</td>\n",
       "      <td>1</td>\n",
       "      <td>0</td>\n",
       "    </tr>\n",
       "    <tr>\n",
       "      <th>Non Homeless</th>\n",
       "      <td>100.0</td>\n",
       "      <td>90.16</td>\n",
       "      <td>96.35</td>\n",
       "      <td>94.19</td>\n",
       "      <td>100.0</td>\n",
       "    </tr>\n",
       "    <tr>\n",
       "      <th>Non Homeless-Dummy</th>\n",
       "      <td>1</td>\n",
       "      <td>1</td>\n",
       "      <td>1</td>\n",
       "      <td>1</td>\n",
       "      <td>1</td>\n",
       "    </tr>\n",
       "    <tr>\n",
       "      <th>Disadvantaged</th>\n",
       "      <td>53.45</td>\n",
       "      <td>42.06</td>\n",
       "      <td>59.9</td>\n",
       "      <td>85.64</td>\n",
       "      <td>89.13</td>\n",
       "    </tr>\n",
       "    <tr>\n",
       "      <th>Disadvantaged-Dummy</th>\n",
       "      <td>1</td>\n",
       "      <td>1</td>\n",
       "      <td>1</td>\n",
       "      <td>1</td>\n",
       "      <td>1</td>\n",
       "    </tr>\n",
       "    <tr>\n",
       "      <th>Not Disadvantaged</th>\n",
       "      <td>46.55</td>\n",
       "      <td>57.94</td>\n",
       "      <td>40.1</td>\n",
       "      <td>14.36</td>\n",
       "      <td>10.87</td>\n",
       "    </tr>\n",
       "    <tr>\n",
       "      <th>Not Disadvantaged-Dummy</th>\n",
       "      <td>1</td>\n",
       "      <td>1</td>\n",
       "      <td>1</td>\n",
       "      <td>1</td>\n",
       "      <td>1</td>\n",
       "    </tr>\n",
       "    <tr>\n",
       "      <th>Black</th>\n",
       "      <td>8.62</td>\n",
       "      <td>5.37</td>\n",
       "      <td>-1.0</td>\n",
       "      <td>1.2</td>\n",
       "      <td>0.0</td>\n",
       "    </tr>\n",
       "    <tr>\n",
       "      <th>Black-Dummy</th>\n",
       "      <td>1</td>\n",
       "      <td>1</td>\n",
       "      <td>0</td>\n",
       "      <td>1</td>\n",
       "      <td>0</td>\n",
       "    </tr>\n",
       "    <tr>\n",
       "      <th>Native American</th>\n",
       "      <td>-1.0</td>\n",
       "      <td>-1.0</td>\n",
       "      <td>-1.0</td>\n",
       "      <td>0.0</td>\n",
       "      <td>-1.0</td>\n",
       "    </tr>\n",
       "    <tr>\n",
       "      <th>Native American-Dummy</th>\n",
       "      <td>0</td>\n",
       "      <td>0</td>\n",
       "      <td>0</td>\n",
       "      <td>0</td>\n",
       "      <td>0</td>\n",
       "    </tr>\n",
       "    <tr>\n",
       "      <th>Asian</th>\n",
       "      <td>0.0</td>\n",
       "      <td>33.56</td>\n",
       "      <td>69.27</td>\n",
       "      <td>3.08</td>\n",
       "      <td>4.35</td>\n",
       "    </tr>\n",
       "    <tr>\n",
       "      <th>Asian-Dummy</th>\n",
       "      <td>0</td>\n",
       "      <td>1</td>\n",
       "      <td>1</td>\n",
       "      <td>1</td>\n",
       "      <td>1</td>\n",
       "    </tr>\n",
       "    <tr>\n",
       "      <th>Hispanic</th>\n",
       "      <td>56.9</td>\n",
       "      <td>29.31</td>\n",
       "      <td>22.4</td>\n",
       "      <td>90.94</td>\n",
       "      <td>90.22</td>\n",
       "    </tr>\n",
       "    <tr>\n",
       "      <th>Hispanic-Dummy</th>\n",
       "      <td>1</td>\n",
       "      <td>1</td>\n",
       "      <td>1</td>\n",
       "      <td>1</td>\n",
       "      <td>1</td>\n",
       "    </tr>\n",
       "    <tr>\n",
       "      <th>Pacific Islander</th>\n",
       "      <td>-1.0</td>\n",
       "      <td>0.0</td>\n",
       "      <td>-1.0</td>\n",
       "      <td>0.0</td>\n",
       "      <td>-1.0</td>\n",
       "    </tr>\n",
       "    <tr>\n",
       "      <th>Pacific Islander-Dummy</th>\n",
       "      <td>0</td>\n",
       "      <td>0</td>\n",
       "      <td>0</td>\n",
       "      <td>0</td>\n",
       "      <td>0</td>\n",
       "    </tr>\n",
       "    <tr>\n",
       "      <th>White</th>\n",
       "      <td>31.03</td>\n",
       "      <td>24.83</td>\n",
       "      <td>5.21</td>\n",
       "      <td>2.56</td>\n",
       "      <td>0.0</td>\n",
       "    </tr>\n",
       "    <tr>\n",
       "      <th>White-Dummy</th>\n",
       "      <td>1</td>\n",
       "      <td>1</td>\n",
       "      <td>1</td>\n",
       "      <td>1</td>\n",
       "      <td>0</td>\n",
       "    </tr>\n",
       "    <tr>\n",
       "      <th>Two/More Races</th>\n",
       "      <td>-1.0</td>\n",
       "      <td>1.57</td>\n",
       "      <td>3.12</td>\n",
       "      <td>0.0</td>\n",
       "      <td>0.0</td>\n",
       "    </tr>\n",
       "    <tr>\n",
       "      <th>Two/More Races-Dummy</th>\n",
       "      <td>0</td>\n",
       "      <td>1</td>\n",
       "      <td>1</td>\n",
       "      <td>0</td>\n",
       "      <td>0</td>\n",
       "    </tr>\n",
       "    <tr>\n",
       "      <th>&lt; High School</th>\n",
       "      <td>10.34</td>\n",
       "      <td>3.36</td>\n",
       "      <td>0.0</td>\n",
       "      <td>38.12</td>\n",
       "      <td>44.57</td>\n",
       "    </tr>\n",
       "    <tr>\n",
       "      <th>&lt; High School-Dummy</th>\n",
       "      <td>1</td>\n",
       "      <td>1</td>\n",
       "      <td>0</td>\n",
       "      <td>1</td>\n",
       "      <td>1</td>\n",
       "    </tr>\n",
       "    <tr>\n",
       "      <th>High School Grad</th>\n",
       "      <td>22.41</td>\n",
       "      <td>9.84</td>\n",
       "      <td>6.77</td>\n",
       "      <td>28.72</td>\n",
       "      <td>29.89</td>\n",
       "    </tr>\n",
       "    <tr>\n",
       "      <th>High School Grad-Dummy</th>\n",
       "      <td>1</td>\n",
       "      <td>1</td>\n",
       "      <td>1</td>\n",
       "      <td>1</td>\n",
       "      <td>1</td>\n",
       "    </tr>\n",
       "    <tr>\n",
       "      <th>Some College</th>\n",
       "      <td>37.93</td>\n",
       "      <td>19.02</td>\n",
       "      <td>7.29</td>\n",
       "      <td>14.02</td>\n",
       "      <td>13.04</td>\n",
       "    </tr>\n",
       "    <tr>\n",
       "      <th>Some College-Dummy</th>\n",
       "      <td>1</td>\n",
       "      <td>1</td>\n",
       "      <td>1</td>\n",
       "      <td>1</td>\n",
       "      <td>1</td>\n",
       "    </tr>\n",
       "    <tr>\n",
       "      <th>College Grad</th>\n",
       "      <td>15.52</td>\n",
       "      <td>30.87</td>\n",
       "      <td>17.19</td>\n",
       "      <td>6.67</td>\n",
       "      <td>8.15</td>\n",
       "    </tr>\n",
       "    <tr>\n",
       "      <th>College Grad-Dummy</th>\n",
       "      <td>1</td>\n",
       "      <td>1</td>\n",
       "      <td>1</td>\n",
       "      <td>1</td>\n",
       "      <td>1</td>\n",
       "    </tr>\n",
       "    <tr>\n",
       "      <th>Graduate School</th>\n",
       "      <td>6.9</td>\n",
       "      <td>27.07</td>\n",
       "      <td>3.12</td>\n",
       "      <td>2.56</td>\n",
       "      <td>0.0</td>\n",
       "    </tr>\n",
       "    <tr>\n",
       "      <th>Graduate School-Dummy</th>\n",
       "      <td>1</td>\n",
       "      <td>1</td>\n",
       "      <td>1</td>\n",
       "      <td>1</td>\n",
       "      <td>0</td>\n",
       "    </tr>\n",
       "    <tr>\n",
       "      <th>Percentage Standard Met and Above</th>\n",
       "      <td>44.64</td>\n",
       "      <td>65.6</td>\n",
       "      <td>81.18</td>\n",
       "      <td>30.38</td>\n",
       "      <td>29.83</td>\n",
       "    </tr>\n",
       "  </tbody>\n",
       "</table>\n",
       "</div>"
      ],
      "text/plain": [
       "                                                                 0  \\\n",
       "School Name                        21st Century Learning Institute   \n",
       "School Code                                                 129882   \n",
       "Zip Code                                                     92223   \n",
       "County Name                                              Riverside   \n",
       "County Code                                                   33.0   \n",
       "Latitude                                                 33.962281   \n",
       "Longitude                                              -116.984589   \n",
       "Median Household Income                                    64738.0   \n",
       "CAASPP Reported Enrollment                                    58.0   \n",
       "CAASPP Reported Enrollment-Dummy                                 1   \n",
       "Enrollment K-12                                               88.0   \n",
       "Enrollment K-12-Dummy                                            1   \n",
       "Total Revenue per Pupil                                    12626.0   \n",
       "Total Expenditures per Pupil                               14449.0   \n",
       "Free Meal Count K-12                                          41.0   \n",
       "Current Expense Per ADA                               11384.420846   \n",
       "Male                                                         44.83   \n",
       "Male-Dummy                                                       1   \n",
       "Female                                                       55.17   \n",
       "Female-Dummy                                                     1   \n",
       "Military                                                      -1.0   \n",
       "Military-Dummy                                                   0   \n",
       "Non Military                                                 100.0   \n",
       "Non Military-Dummy                                               1   \n",
       "Homeless                                                      -1.0   \n",
       "Homeless-Dummy                                                   0   \n",
       "Non Homeless                                                 100.0   \n",
       "Non Homeless-Dummy                                               1   \n",
       "Disadvantaged                                                53.45   \n",
       "Disadvantaged-Dummy                                              1   \n",
       "Not Disadvantaged                                            46.55   \n",
       "Not Disadvantaged-Dummy                                          1   \n",
       "Black                                                         8.62   \n",
       "Black-Dummy                                                      1   \n",
       "Native American                                               -1.0   \n",
       "Native American-Dummy                                            0   \n",
       "Asian                                                          0.0   \n",
       "Asian-Dummy                                                      0   \n",
       "Hispanic                                                      56.9   \n",
       "Hispanic-Dummy                                                   1   \n",
       "Pacific Islander                                              -1.0   \n",
       "Pacific Islander-Dummy                                           0   \n",
       "White                                                        31.03   \n",
       "White-Dummy                                                      1   \n",
       "Two/More Races                                                -1.0   \n",
       "Two/More Races-Dummy                                             0   \n",
       "< High School                                                10.34   \n",
       "< High School-Dummy                                              1   \n",
       "High School Grad                                             22.41   \n",
       "High School Grad-Dummy                                           1   \n",
       "Some College                                                 37.93   \n",
       "Some College-Dummy                                               1   \n",
       "College Grad                                                 15.52   \n",
       "College Grad-Dummy                                               1   \n",
       "Graduate School                                                6.9   \n",
       "Graduate School-Dummy                                            1   \n",
       "Percentage Standard Met and Above                            44.64   \n",
       "\n",
       "                                                         1  \\\n",
       "School Name                        A. E. Arnold Elementary   \n",
       "School Code                                        6027767   \n",
       "Zip Code                                             90630   \n",
       "County Name                                         Orange   \n",
       "County Code                                           30.0   \n",
       "Latitude                                           33.8249   \n",
       "Longitude                                        -118.0457   \n",
       "Median Household Income                            84051.0   \n",
       "CAASPP Reported Enrollment                           447.0   \n",
       "CAASPP Reported Enrollment-Dummy                         1   \n",
       "Enrollment K-12                                      739.0   \n",
       "Enrollment K-12-Dummy                                    1   \n",
       "Total Revenue per Pupil                            13641.0   \n",
       "Total Expenditures per Pupil                       11589.0   \n",
       "Free Meal Count K-12                                 246.0   \n",
       "Current Expense Per ADA                       10758.663825   \n",
       "Male                                                 52.13   \n",
       "Male-Dummy                                               1   \n",
       "Female                                               47.87   \n",
       "Female-Dummy                                             1   \n",
       "Military                                               0.0   \n",
       "Military-Dummy                                           0   \n",
       "Non Military                                         99.78   \n",
       "Non Military-Dummy                                       1   \n",
       "Homeless                                              9.84   \n",
       "Homeless-Dummy                                           1   \n",
       "Non Homeless                                         90.16   \n",
       "Non Homeless-Dummy                                       1   \n",
       "Disadvantaged                                        42.06   \n",
       "Disadvantaged-Dummy                                      1   \n",
       "Not Disadvantaged                                    57.94   \n",
       "Not Disadvantaged-Dummy                                  1   \n",
       "Black                                                 5.37   \n",
       "Black-Dummy                                              1   \n",
       "Native American                                       -1.0   \n",
       "Native American-Dummy                                    0   \n",
       "Asian                                                33.56   \n",
       "Asian-Dummy                                              1   \n",
       "Hispanic                                             29.31   \n",
       "Hispanic-Dummy                                           1   \n",
       "Pacific Islander                                       0.0   \n",
       "Pacific Islander-Dummy                                   0   \n",
       "White                                                24.83   \n",
       "White-Dummy                                              1   \n",
       "Two/More Races                                        1.57   \n",
       "Two/More Races-Dummy                                     1   \n",
       "< High School                                         3.36   \n",
       "< High School-Dummy                                      1   \n",
       "High School Grad                                      9.84   \n",
       "High School Grad-Dummy                                   1   \n",
       "Some College                                         19.02   \n",
       "Some College-Dummy                                       1   \n",
       "College Grad                                         30.87   \n",
       "College Grad-Dummy                                       1   \n",
       "Graduate School                                      27.07   \n",
       "Graduate School-Dummy                                    1   \n",
       "Percentage Standard Met and Above                     65.6   \n",
       "\n",
       "                                                       2                    3  \\\n",
       "School Name                        A. G. Cook Elementary  A. G. Currie Middle   \n",
       "School Code                                      6028211              6085377   \n",
       "Zip Code                                           92844                92780   \n",
       "County Name                                       Orange               Orange   \n",
       "County Code                                         30.0                 30.0   \n",
       "Latitude                                         33.7777              33.7431   \n",
       "Longitude                                       -117.953            -117.8249   \n",
       "Median Household Income                          48345.0              64089.0   \n",
       "CAASPP Reported Enrollment                         192.0                585.0   \n",
       "CAASPP Reported Enrollment-Dummy                       1                    1   \n",
       "Enrollment K-12                                    366.0                611.0   \n",
       "Enrollment K-12-Dummy                                  1                    1   \n",
       "Total Revenue per Pupil                          14695.0              13166.0   \n",
       "Total Expenditures per Pupil                     16663.0              12601.0   \n",
       "Free Meal Count K-12                               187.0                422.0   \n",
       "Current Expense Per ADA                       12964.4477         10744.324251   \n",
       "Male                                               44.79                52.82   \n",
       "Male-Dummy                                             1                    1   \n",
       "Female                                             55.21                47.18   \n",
       "Female-Dummy                                           1                    1   \n",
       "Military                                            12.5                 -1.0   \n",
       "Military-Dummy                                         1                    0   \n",
       "Non Military                                        87.5                100.0   \n",
       "Non Military-Dummy                                     1                    1   \n",
       "Homeless                                            3.65                 5.81   \n",
       "Homeless-Dummy                                         1                    1   \n",
       "Non Homeless                                       96.35                94.19   \n",
       "Non Homeless-Dummy                                     1                    1   \n",
       "Disadvantaged                                       59.9                85.64   \n",
       "Disadvantaged-Dummy                                    1                    1   \n",
       "Not Disadvantaged                                   40.1                14.36   \n",
       "Not Disadvantaged-Dummy                                1                    1   \n",
       "Black                                               -1.0                  1.2   \n",
       "Black-Dummy                                            0                    1   \n",
       "Native American                                     -1.0                  0.0   \n",
       "Native American-Dummy                                  0                    0   \n",
       "Asian                                              69.27                 3.08   \n",
       "Asian-Dummy                                            1                    1   \n",
       "Hispanic                                            22.4                90.94   \n",
       "Hispanic-Dummy                                         1                    1   \n",
       "Pacific Islander                                    -1.0                  0.0   \n",
       "Pacific Islander-Dummy                                 0                    0   \n",
       "White                                               5.21                 2.56   \n",
       "White-Dummy                                            1                    1   \n",
       "Two/More Races                                      3.12                  0.0   \n",
       "Two/More Races-Dummy                                   1                    0   \n",
       "< High School                                        0.0                38.12   \n",
       "< High School-Dummy                                    0                    1   \n",
       "High School Grad                                    6.77                28.72   \n",
       "High School Grad-Dummy                                 1                    1   \n",
       "Some College                                        7.29                14.02   \n",
       "Some College-Dummy                                     1                    1   \n",
       "College Grad                                       17.19                 6.67   \n",
       "College Grad-Dummy                                     1                    1   \n",
       "Graduate School                                     3.12                 2.56   \n",
       "Graduate School-Dummy                                  1                    1   \n",
       "Percentage Standard Met and Above                  81.18                30.38   \n",
       "\n",
       "                                                        4  \n",
       "School Name                        A. J. Dorsa Elementary  \n",
       "School Code                                       6046114  \n",
       "Zip Code                                            95122  \n",
       "County Name                                   Santa Clara  \n",
       "County Code                                          43.0  \n",
       "Latitude                                        37.369388  \n",
       "Longitude                                      -121.83356  \n",
       "Median Household Income                           57470.0  \n",
       "CAASPP Reported Enrollment                          184.0  \n",
       "CAASPP Reported Enrollment-Dummy                        1  \n",
       "Enrollment K-12                                     371.0  \n",
       "Enrollment K-12-Dummy                                   1  \n",
       "Total Revenue per Pupil                           14788.0  \n",
       "Total Expenditures per Pupil                      15286.0  \n",
       "Free Meal Count K-12                                262.0  \n",
       "Current Expense Per ADA                      15524.553854  \n",
       "Male                                                 50.0  \n",
       "Male-Dummy                                              1  \n",
       "Female                                               50.0  \n",
       "Female-Dummy                                            1  \n",
       "Military                                             -1.0  \n",
       "Military-Dummy                                          0  \n",
       "Non Military                                        100.0  \n",
       "Non Military-Dummy                                      1  \n",
       "Homeless                                             -1.0  \n",
       "Homeless-Dummy                                          0  \n",
       "Non Homeless                                        100.0  \n",
       "Non Homeless-Dummy                                      1  \n",
       "Disadvantaged                                       89.13  \n",
       "Disadvantaged-Dummy                                     1  \n",
       "Not Disadvantaged                                   10.87  \n",
       "Not Disadvantaged-Dummy                                 1  \n",
       "Black                                                 0.0  \n",
       "Black-Dummy                                             0  \n",
       "Native American                                      -1.0  \n",
       "Native American-Dummy                                   0  \n",
       "Asian                                                4.35  \n",
       "Asian-Dummy                                             1  \n",
       "Hispanic                                            90.22  \n",
       "Hispanic-Dummy                                          1  \n",
       "Pacific Islander                                     -1.0  \n",
       "Pacific Islander-Dummy                                  0  \n",
       "White                                                 0.0  \n",
       "White-Dummy                                             0  \n",
       "Two/More Races                                        0.0  \n",
       "Two/More Races-Dummy                                    0  \n",
       "< High School                                       44.57  \n",
       "< High School-Dummy                                     1  \n",
       "High School Grad                                    29.89  \n",
       "High School Grad-Dummy                                  1  \n",
       "Some College                                        13.04  \n",
       "Some College-Dummy                                      1  \n",
       "College Grad                                         8.15  \n",
       "College Grad-Dummy                                      1  \n",
       "Graduate School                                       0.0  \n",
       "Graduate School-Dummy                                   0  \n",
       "Percentage Standard Met and Above                   29.83  "
      ]
     },
     "execution_count": 2,
     "metadata": {},
     "output_type": "execute_result"
    }
   ],
   "source": [
    "# load file\n",
    "language = pd.read_csv('data/df_language_with_dummies')\n",
    "language.head().T"
   ]
  },
  {
   "cell_type": "code",
   "execution_count": 3,
   "metadata": {},
   "outputs": [],
   "source": [
    "# copy original df\n",
    "language_df = language.copy()"
   ]
  },
  {
   "cell_type": "code",
   "execution_count": 4,
   "metadata": {},
   "outputs": [],
   "source": [
    "# Drop columns not useful in the model\n",
    "language_df = language_df.drop(['School Name', 'School Code', 'Zip Code', 'County Name', 'County Code',\n",
    "       'Latitude', 'Longitude'], axis=1)"
   ]
  },
  {
   "cell_type": "code",
   "execution_count": 5,
   "metadata": {
    "scrolled": true
   },
   "outputs": [
    {
     "name": "stdout",
     "output_type": "stream",
     "text": [
      "<class 'pandas.core.frame.DataFrame'>\n",
      "RangeIndex: 9646 entries, 0 to 9645\n",
      "Data columns (total 50 columns):\n",
      " #   Column                             Non-Null Count  Dtype  \n",
      "---  ------                             --------------  -----  \n",
      " 0   Median Household Income            9646 non-null   float64\n",
      " 1   CAASPP Reported Enrollment         9646 non-null   float64\n",
      " 2   CAASPP Reported Enrollment-Dummy   9646 non-null   int64  \n",
      " 3   Enrollment K-12                    9646 non-null   float64\n",
      " 4   Enrollment K-12-Dummy              9646 non-null   int64  \n",
      " 5   Total Revenue per Pupil            9646 non-null   float64\n",
      " 6   Total Expenditures per Pupil       9646 non-null   float64\n",
      " 7   Free Meal Count K-12               9646 non-null   float64\n",
      " 8   Current Expense Per ADA            9646 non-null   float64\n",
      " 9   Male                               9646 non-null   float64\n",
      " 10  Male-Dummy                         9646 non-null   int64  \n",
      " 11  Female                             9646 non-null   float64\n",
      " 12  Female-Dummy                       9646 non-null   int64  \n",
      " 13  Military                           9646 non-null   float64\n",
      " 14  Military-Dummy                     9646 non-null   int64  \n",
      " 15  Non Military                       9646 non-null   float64\n",
      " 16  Non Military-Dummy                 9646 non-null   int64  \n",
      " 17  Homeless                           9646 non-null   float64\n",
      " 18  Homeless-Dummy                     9646 non-null   int64  \n",
      " 19  Non Homeless                       9646 non-null   float64\n",
      " 20  Non Homeless-Dummy                 9646 non-null   int64  \n",
      " 21  Disadvantaged                      9646 non-null   float64\n",
      " 22  Disadvantaged-Dummy                9646 non-null   int64  \n",
      " 23  Not Disadvantaged                  9646 non-null   float64\n",
      " 24  Not Disadvantaged-Dummy            9646 non-null   int64  \n",
      " 25  Black                              9646 non-null   float64\n",
      " 26  Black-Dummy                        9646 non-null   int64  \n",
      " 27  Native American                    9646 non-null   float64\n",
      " 28  Native American-Dummy              9646 non-null   int64  \n",
      " 29  Asian                              9646 non-null   float64\n",
      " 30  Asian-Dummy                        9646 non-null   int64  \n",
      " 31  Hispanic                           9646 non-null   float64\n",
      " 32  Hispanic-Dummy                     9646 non-null   int64  \n",
      " 33  Pacific Islander                   9646 non-null   float64\n",
      " 34  Pacific Islander-Dummy             9646 non-null   int64  \n",
      " 35  White                              9646 non-null   float64\n",
      " 36  White-Dummy                        9646 non-null   int64  \n",
      " 37  Two/More Races                     9646 non-null   float64\n",
      " 38  Two/More Races-Dummy               9646 non-null   int64  \n",
      " 39  < High School                      9646 non-null   float64\n",
      " 40  < High School-Dummy                9646 non-null   int64  \n",
      " 41  High School Grad                   9646 non-null   float64\n",
      " 42  High School Grad-Dummy             9646 non-null   int64  \n",
      " 43  Some College                       9646 non-null   float64\n",
      " 44  Some College-Dummy                 9646 non-null   int64  \n",
      " 45  College Grad                       9646 non-null   float64\n",
      " 46  College Grad-Dummy                 9646 non-null   int64  \n",
      " 47  Graduate School                    9646 non-null   float64\n",
      " 48  Graduate School-Dummy              9646 non-null   int64  \n",
      " 49  Percentage Standard Met and Above  9646 non-null   float64\n",
      "dtypes: float64(28), int64(22)\n",
      "memory usage: 3.7 MB\n"
     ]
    }
   ],
   "source": [
    "# Overview of the data check all features are numeric\n",
    "language_df.info()"
   ]
  },
  {
   "cell_type": "code",
   "execution_count": 6,
   "metadata": {
    "scrolled": false
   },
   "outputs": [
    {
     "data": {
      "image/png": "[encoded data removed]",
      "text/plain": [
       "<Figure size 1728x1584 with 2 Axes>"
      ]
     },
     "metadata": {},
     "output_type": "display_data"
    }
   ],
   "source": [
    "table = language_df[['Median Household Income', 'CAASPP Reported Enrollment','Enrollment K-12',\n",
    "       'Total Revenue per Pupil','Total Expenditures per Pupil', 'Free Meal Count K-12',\n",
    "       'Current Expense Per ADA', 'Male', 'Female','Military', 'Non Military','Homeless','Non Homeless',\n",
    "       'Disadvantaged','Not Disadvantaged', 'Black','Native American','Asian','Hispanic', 'Pacific Islander',\n",
    "       'White', 'Two/More Races', '< High School', 'High School Grad', 'Some College','College Grad',\n",
    "       'Graduate School','Percentage Standard Met and Above']]\n",
    "\n",
    "# Run correlation on table constructed with count instead of percentage values\n",
    "corrmat = table.corr()\n",
    "f, ax = plt.subplots(figsize=(24, 22))\n",
    "hm = sns.heatmap(round(corrmat,2), annot=True, cmap=\"Blues\", ax=ax, fmt='.2f',\n",
    "                 linewidths=.05)\n",
    "f.subplots_adjust(top=0.93)\n",
    "t= f.suptitle('Language Arts & Literacy: Correlation Table', fontsize=34)"
   ]
  },
  {
   "cell_type": "code",
   "execution_count": 7,
   "metadata": {},
   "outputs": [
    {
     "data": {
      "text/plain": [
       "(9646, 50)"
      ]
     },
     "execution_count": 7,
     "metadata": {},
     "output_type": "execute_result"
    }
   ],
   "source": [
    "# Dimensions of the dataset \n",
    "language_df.shape"
   ]
  },
  {
   "cell_type": "code",
   "execution_count": 8,
   "metadata": {},
   "outputs": [
    {
     "data": {
      "text/plain": [
       "Text(0, 0.5, 'Number of schools')"
      ]
     },
     "execution_count": 8,
     "metadata": {},
     "output_type": "execute_result"
    },
    {
     "data": {
      "image/png": "[encoded data removed]",
      "text/plain": [
       "<Figure size 432x288 with 1 Axes>"
      ]
     },
     "metadata": {},
     "output_type": "display_data"
    }
   ],
   "source": [
    "# distrubution of the dependent var\n",
    "plt.hist(language_df['Percentage Standard Met and Above'])\n",
    "\n",
    "plt.title(\"Histogram: Percentage Standard Met and Above\")\n",
    "plt.xlabel(\"% Pass\")\n",
    "plt.ylabel(\"Number of schools\")"
   ]
  },
  {
   "cell_type": "code",
   "execution_count": 9,
   "metadata": {},
   "outputs": [
    {
     "data": {
      "text/plain": [
       "0.0"
      ]
     },
     "execution_count": 9,
     "metadata": {},
     "output_type": "execute_result"
    }
   ],
   "source": [
    "language_df['Percentage Standard Met and Above'].min()"
   ]
  },
  {
   "cell_type": "code",
   "execution_count": 10,
   "metadata": {},
   "outputs": [
    {
     "data": {
      "text/plain": [
       "100.0"
      ]
     },
     "execution_count": 10,
     "metadata": {},
     "output_type": "execute_result"
    }
   ],
   "source": [
    "language_df['Percentage Standard Met and Above'].max()"
   ]
  },
  {
   "cell_type": "markdown",
   "metadata": {},
   "source": [
    "# REGRESSION"
   ]
  },
  {
   "cell_type": "markdown",
   "metadata": {},
   "source": [
    "# MODELING 1\n",
    "\n",
    "#### Train/Test Split"
   ]
  },
  {
   "cell_type": "code",
   "execution_count": 11,
   "metadata": {},
   "outputs": [],
   "source": [
    "# dependent variable\n",
    "y = language_df['Percentage Standard Met and Above']\n",
    "\n",
    "# Include all columns from data in the explanatory variables X\n",
    "X = language_df.drop(['Percentage Standard Met and Above'], axis=1)"
   ]
  },
  {
   "cell_type": "code",
   "execution_count": 12,
   "metadata": {},
   "outputs": [],
   "source": [
    "# Split data into test and training\n",
    "X_train, X_test, y_train, y_test = train_test_split(X, y, test_size = 0.25, random_state = 123)"
   ]
  },
  {
   "cell_type": "code",
   "execution_count": 13,
   "metadata": {},
   "outputs": [
    {
     "name": "stdout",
     "output_type": "stream",
     "text": [
      "X_train:  (7234, 49) y_train:  (7234,) X_test : (2412, 49) y_test:  (2412,)\n"
     ]
    }
   ],
   "source": [
    "# Check the shape of the X train, y_train, X_test and y_test to make sure the proportions are right\n",
    "print('X_train: ', X_train.shape, 'y_train: ', y_train.shape, 'X_test :' ,X_test.shape, 'y_test: ', y_test.shape)"
   ]
  },
  {
   "cell_type": "markdown",
   "metadata": {},
   "source": [
    "## Multiple regression\n",
    "1. sklearn\n",
    "\n",
    "- Linear Regression Objects:\n",
    "\n",
    "Main functions | Description\n",
    "--- | --- \n",
    "`lm.fit()` | Fit a linear model\n",
    "`lm.predit()` | Predict Y using the linear model with estimated coefficients\n",
    "`lm.score()` | Returns the coefficient of determination (R^2). *A measure of how well observed outcomes are replicated by the model, as the proportion of total variation of outcomes explained by the model*\n",
    "\n",
    "- Output:\n",
    "\n",
    "Output | Description\n",
    "--- | --- \n",
    "`lm.coef_` | Estimated coefficients\n",
    "`lm.intercept_` | Estimated intercept "
   ]
  },
  {
   "cell_type": "code",
   "execution_count": 14,
   "metadata": {},
   "outputs": [],
   "source": [
    "# Create linear model\n",
    "rModel = linear_model.LinearRegression(normalize=True) # normalize=True parameter enables the handling of different scales"
   ]
  },
  {
   "cell_type": "code",
   "execution_count": 15,
   "metadata": {},
   "outputs": [
    {
     "data": {
      "text/plain": [
       "LinearRegression(normalize=True)"
      ]
     },
     "execution_count": 15,
     "metadata": {},
     "output_type": "execute_result"
    }
   ],
   "source": [
    "# Train model call .fit() method of rModel\n",
    "rModel.fit(X_train, y_train)"
   ]
  },
  {
   "cell_type": "code",
   "execution_count": 16,
   "metadata": {},
   "outputs": [
    {
     "name": "stdout",
     "output_type": "stream",
     "text": [
      "0.7205538514436916\n"
     ]
    }
   ],
   "source": [
    "# Predict on both x train and x test\n",
    "y_tr_pred = rModel.predict(X_train)\n",
    "y_te_pred = rModel.predict(X_test)\n",
    "\n",
    "# Evaluate the model call .score() on rModel with parameters X_train, y_train\n",
    "print(rModel.score(X_train, y_train))"
   ]
  },
  {
   "cell_type": "code",
   "execution_count": 17,
   "metadata": {},
   "outputs": [
    {
     "data": {
      "text/plain": [
       "(0.7205538514436916, 0.7146494433367998)"
      ]
     },
     "execution_count": 17,
     "metadata": {},
     "output_type": "execute_result"
    }
   ],
   "source": [
    "# Access model performance r^2 - train, test\n",
    "median_r2 = r2_score(y_train, y_tr_pred), r2_score(y_test, y_te_pred)\n",
    "median_r2"
   ]
  },
  {
   "cell_type": "code",
   "execution_count": 18,
   "metadata": {},
   "outputs": [
    {
     "data": {
      "text/plain": [
       "Text(0, 0.5, 'Predicted values')"
      ]
     },
     "execution_count": 18,
     "metadata": {},
     "output_type": "execute_result"
    },
    {
     "data": {
      "image/png": "[encoded data removed]",
      "text/plain": [
       "<Figure size 432x288 with 1 Axes>"
      ]
     },
     "metadata": {},
     "output_type": "display_data"
    }
   ],
   "source": [
    "# Let's plot the predictions against the actual result. Use scatter()\n",
    "plt.scatter(y_test, y_te_pred)\n",
    "\n",
    "# Label \n",
    "plt.title(\"Model 1 predictions vs. the actual values\")\n",
    "plt.xlabel(\"Actual values\")\n",
    "plt.ylabel(\"Predicted values\")"
   ]
  },
  {
   "cell_type": "markdown",
   "metadata": {},
   "source": [
    "## Ordinary Least Square Method (OLS)\n",
    "2. Statsmodel\n",
    "\n",
    "#### Train/Test Split"
   ]
  },
  {
   "cell_type": "code",
   "execution_count": 19,
   "metadata": {},
   "outputs": [],
   "source": [
    "# Create test and train datasets\n",
    "# Include all columns from data in the explanatory variables X\n",
    "X = language_df.drop(['Percentage Standard Met and Above'], axis=1)\n",
    "\n",
    "# Create constants for X, so the model knows its bounds\n",
    "X = sm.add_constant(X)\n",
    "y = language_df['Percentage Standard Met and Above']\n",
    "\n",
    "# Split the data\n",
    "X_train, X_test, y_train, y_test = train_test_split(X, y, test_size = 0.25, random_state = 123)"
   ]
  },
  {
   "cell_type": "code",
   "execution_count": 20,
   "metadata": {},
   "outputs": [
    {
     "name": "stdout",
     "output_type": "stream",
     "text": [
      "X_train:  (7234, 49) y_train:  (7234,) X_test : (2412, 49) y_test:  (2412,)\n"
     ]
    }
   ],
   "source": [
    "# We now want to check the shape of the X train, y_train, X_test and y_test to make sure the proportions are right. \n",
    "print('X_train: ', X_train.shape, 'y_train: ', y_train.shape, 'X_test :' ,X_test.shape, 'y_test: ', y_test.shape)"
   ]
  },
  {
   "cell_type": "code",
   "execution_count": 21,
   "metadata": {},
   "outputs": [],
   "source": [
    "# We can use almost identical code to create the third model, because it is the same algorithm, just different inputs\n",
    "# Create the model\n",
    "rModel2 = sm.OLS(y_train, X_train)\n",
    "# Fit the model\n",
    "rModel2_results = rModel2.fit()"
   ]
  },
  {
   "cell_type": "code",
   "execution_count": 22,
   "metadata": {
    "scrolled": false
   },
   "outputs": [
    {
     "data": {
      "text/html": [
       "<table class=\"simpletable\">\n",
       "<caption>OLS Regression Results</caption>\n",
       "<tr>\n",
       "  <th>Dep. Variable:</th>    <td>Percentage Standard Met and Above</td> <th>  R-squared:         </th> <td>   0.721</td> \n",
       "</tr>\n",
       "<tr>\n",
       "  <th>Model:</th>                           <td>OLS</td>                <th>  Adj. R-squared:    </th> <td>   0.719</td> \n",
       "</tr>\n",
       "<tr>\n",
       "  <th>Method:</th>                     <td>Least Squares</td>           <th>  F-statistic:       </th> <td>   395.1</td> \n",
       "</tr>\n",
       "<tr>\n",
       "  <th>Date:</th>                     <td>Sun, 02 May 2021</td>          <th>  Prob (F-statistic):</th>  <td>  0.00</td>  \n",
       "</tr>\n",
       "<tr>\n",
       "  <th>Time:</th>                         <td>18:13:05</td>              <th>  Log-Likelihood:    </th> <td> -27502.</td> \n",
       "</tr>\n",
       "<tr>\n",
       "  <th>No. Observations:</th>              <td>  7234</td>               <th>  AIC:               </th> <td>5.510e+04</td>\n",
       "</tr>\n",
       "<tr>\n",
       "  <th>Df Residuals:</th>                  <td>  7186</td>               <th>  BIC:               </th> <td>5.543e+04</td>\n",
       "</tr>\n",
       "<tr>\n",
       "  <th>Df Model:</th>                      <td>    47</td>               <th>                     </th>     <td> </td>    \n",
       "</tr>\n",
       "<tr>\n",
       "  <th>Covariance Type:</th>              <td>nonrobust</td>             <th>                     </th>     <td> </td>    \n",
       "</tr>\n",
       "</table>\n",
       "<table class=\"simpletable\">\n",
       "<tr>\n",
       "                  <td></td>                    <th>coef</th>     <th>std err</th>      <th>t</th>      <th>P>|t|</th>  <th>[0.025</th>    <th>0.975]</th>  \n",
       "</tr>\n",
       "<tr>\n",
       "  <th>Median Household Income</th>          <td>-2.016e-05</td> <td>  7.9e-06</td> <td>   -2.550</td> <td> 0.011</td> <td>-3.56e-05</td> <td>-4.66e-06</td>\n",
       "</tr>\n",
       "<tr>\n",
       "  <th>CAASPP Reported Enrollment</th>       <td>   -0.0051</td> <td>    0.001</td> <td>   -7.110</td> <td> 0.000</td> <td>   -0.007</td> <td>   -0.004</td>\n",
       "</tr>\n",
       "<tr>\n",
       "  <th>CAASPP Reported Enrollment-Dummy</th> <td>  -60.3037</td> <td>   16.201</td> <td>   -3.722</td> <td> 0.000</td> <td>  -92.063</td> <td>  -28.544</td>\n",
       "</tr>\n",
       "<tr>\n",
       "  <th>Enrollment K-12</th>                  <td>    0.0047</td> <td>    0.001</td> <td>    7.881</td> <td> 0.000</td> <td>    0.004</td> <td>    0.006</td>\n",
       "</tr>\n",
       "<tr>\n",
       "  <th>Enrollment K-12-Dummy</th>            <td>   13.2168</td> <td>    1.795</td> <td>    7.363</td> <td> 0.000</td> <td>    9.698</td> <td>   16.735</td>\n",
       "</tr>\n",
       "<tr>\n",
       "  <th>Total Revenue per Pupil</th>          <td>    0.0006</td> <td> 8.83e-05</td> <td>    7.095</td> <td> 0.000</td> <td>    0.000</td> <td>    0.001</td>\n",
       "</tr>\n",
       "<tr>\n",
       "  <th>Total Expenditures per Pupil</th>     <td>   -0.0002</td> <td> 8.28e-05</td> <td>   -1.971</td> <td> 0.049</td> <td>   -0.000</td> <td>-8.94e-07</td>\n",
       "</tr>\n",
       "<tr>\n",
       "  <th>Free Meal Count K-12</th>             <td>    0.0027</td> <td>    0.001</td> <td>    2.369</td> <td> 0.018</td> <td>    0.000</td> <td>    0.005</td>\n",
       "</tr>\n",
       "<tr>\n",
       "  <th>Current Expense Per ADA</th>          <td>-4.772e-05</td> <td> 3.07e-05</td> <td>   -1.556</td> <td> 0.120</td> <td>   -0.000</td> <td> 1.24e-05</td>\n",
       "</tr>\n",
       "<tr>\n",
       "  <th>Male</th>                             <td>   -0.2690</td> <td>    0.132</td> <td>   -2.045</td> <td> 0.041</td> <td>   -0.527</td> <td>   -0.011</td>\n",
       "</tr>\n",
       "<tr>\n",
       "  <th>Male-Dummy</th>                       <td>   24.5830</td> <td>    4.010</td> <td>    6.130</td> <td> 0.000</td> <td>   16.722</td> <td>   32.445</td>\n",
       "</tr>\n",
       "<tr>\n",
       "  <th>Female</th>                           <td>    0.2392</td> <td>    0.133</td> <td>    1.802</td> <td> 0.072</td> <td>   -0.021</td> <td>    0.499</td>\n",
       "</tr>\n",
       "<tr>\n",
       "  <th>Female-Dummy</th>                     <td>   -2.9176</td> <td>    2.646</td> <td>   -1.102</td> <td> 0.270</td> <td>   -8.105</td> <td>    2.270</td>\n",
       "</tr>\n",
       "<tr>\n",
       "  <th>Military</th>                         <td>    0.6336</td> <td>    0.300</td> <td>    2.109</td> <td> 0.035</td> <td>    0.045</td> <td>    1.223</td>\n",
       "</tr>\n",
       "<tr>\n",
       "  <th>Military-Dummy</th>                   <td>    0.8921</td> <td>    0.523</td> <td>    1.707</td> <td> 0.088</td> <td>   -0.132</td> <td>    1.916</td>\n",
       "</tr>\n",
       "<tr>\n",
       "  <th>Non Military</th>                     <td>    0.5501</td> <td>    0.300</td> <td>    1.835</td> <td> 0.067</td> <td>   -0.038</td> <td>    1.138</td>\n",
       "</tr>\n",
       "<tr>\n",
       "  <th>Non Military-Dummy</th>               <td>  -60.3037</td> <td>   16.201</td> <td>   -3.722</td> <td> 0.000</td> <td>  -92.063</td> <td>  -28.544</td>\n",
       "</tr>\n",
       "<tr>\n",
       "  <th>Homeless</th>                         <td>    0.6488</td> <td>    0.119</td> <td>    5.432</td> <td> 0.000</td> <td>    0.415</td> <td>    0.883</td>\n",
       "</tr>\n",
       "<tr>\n",
       "  <th>Homeless-Dummy</th>                   <td>   -1.0279</td> <td>    0.373</td> <td>   -2.754</td> <td> 0.006</td> <td>   -1.759</td> <td>   -0.296</td>\n",
       "</tr>\n",
       "<tr>\n",
       "  <th>Non Homeless</th>                     <td>    0.6877</td> <td>    0.118</td> <td>    5.817</td> <td> 0.000</td> <td>    0.456</td> <td>    0.919</td>\n",
       "</tr>\n",
       "<tr>\n",
       "  <th>Non Homeless-Dummy</th>               <td>  -27.1743</td> <td>    6.107</td> <td>   -4.450</td> <td> 0.000</td> <td>  -39.145</td> <td>  -15.204</td>\n",
       "</tr>\n",
       "<tr>\n",
       "  <th>Disadvantaged</th>                    <td>    0.0727</td> <td>    0.090</td> <td>    0.804</td> <td> 0.422</td> <td>   -0.105</td> <td>    0.250</td>\n",
       "</tr>\n",
       "<tr>\n",
       "  <th>Disadvantaged-Dummy</th>              <td>   -2.3862</td> <td>    1.854</td> <td>   -1.287</td> <td> 0.198</td> <td>   -6.020</td> <td>    1.248</td>\n",
       "</tr>\n",
       "<tr>\n",
       "  <th>Not Disadvantaged</th>                <td>    0.2897</td> <td>    0.091</td> <td>    3.201</td> <td> 0.001</td> <td>    0.112</td> <td>    0.467</td>\n",
       "</tr>\n",
       "<tr>\n",
       "  <th>Not Disadvantaged-Dummy</th>          <td>   -2.5699</td> <td>    1.090</td> <td>   -2.358</td> <td> 0.018</td> <td>   -4.706</td> <td>   -0.433</td>\n",
       "</tr>\n",
       "<tr>\n",
       "  <th>Black</th>                            <td>   -0.0351</td> <td>    0.031</td> <td>   -1.121</td> <td> 0.262</td> <td>   -0.096</td> <td>    0.026</td>\n",
       "</tr>\n",
       "<tr>\n",
       "  <th>Black-Dummy</th>                      <td>   -0.3017</td> <td>    0.357</td> <td>   -0.844</td> <td> 0.399</td> <td>   -1.002</td> <td>    0.399</td>\n",
       "</tr>\n",
       "<tr>\n",
       "  <th>Native American</th>                  <td>   -0.0712</td> <td>    0.046</td> <td>   -1.550</td> <td> 0.121</td> <td>   -0.161</td> <td>    0.019</td>\n",
       "</tr>\n",
       "<tr>\n",
       "  <th>Native American-Dummy</th>            <td>   -1.6752</td> <td>    0.484</td> <td>   -3.459</td> <td> 0.001</td> <td>   -2.624</td> <td>   -0.726</td>\n",
       "</tr>\n",
       "<tr>\n",
       "  <th>Asian</th>                            <td>    0.4532</td> <td>    0.030</td> <td>   15.292</td> <td> 0.000</td> <td>    0.395</td> <td>    0.511</td>\n",
       "</tr>\n",
       "<tr>\n",
       "  <th>Asian-Dummy</th>                      <td>    2.0739</td> <td>    0.364</td> <td>    5.699</td> <td> 0.000</td> <td>    1.361</td> <td>    2.787</td>\n",
       "</tr>\n",
       "<tr>\n",
       "  <th>Hispanic</th>                         <td>    0.2639</td> <td>    0.027</td> <td>    9.653</td> <td> 0.000</td> <td>    0.210</td> <td>    0.318</td>\n",
       "</tr>\n",
       "<tr>\n",
       "  <th>Hispanic-Dummy</th>                   <td>   -4.4601</td> <td>    1.324</td> <td>   -3.368</td> <td> 0.001</td> <td>   -7.056</td> <td>   -1.864</td>\n",
       "</tr>\n",
       "<tr>\n",
       "  <th>Pacific Islander</th>                 <td>   -0.6504</td> <td>    0.171</td> <td>   -3.813</td> <td> 0.000</td> <td>   -0.985</td> <td>   -0.316</td>\n",
       "</tr>\n",
       "<tr>\n",
       "  <th>Pacific Islander-Dummy</th>           <td>    0.6515</td> <td>    0.577</td> <td>    1.129</td> <td> 0.259</td> <td>   -0.480</td> <td>    1.783</td>\n",
       "</tr>\n",
       "<tr>\n",
       "  <th>White</th>                            <td>    0.2345</td> <td>    0.026</td> <td>    8.879</td> <td> 0.000</td> <td>    0.183</td> <td>    0.286</td>\n",
       "</tr>\n",
       "<tr>\n",
       "  <th>White-Dummy</th>                      <td>   -3.7228</td> <td>    0.483</td> <td>   -7.710</td> <td> 0.000</td> <td>   -4.669</td> <td>   -2.776</td>\n",
       "</tr>\n",
       "<tr>\n",
       "  <th>Two/More Races</th>                   <td>    0.2129</td> <td>    0.053</td> <td>    3.981</td> <td> 0.000</td> <td>    0.108</td> <td>    0.318</td>\n",
       "</tr>\n",
       "<tr>\n",
       "  <th>Two/More Races-Dummy</th>             <td>   -0.9158</td> <td>    0.435</td> <td>   -2.106</td> <td> 0.035</td> <td>   -1.768</td> <td>   -0.063</td>\n",
       "</tr>\n",
       "<tr>\n",
       "  <th>< High School</th>                    <td>   -0.1683</td> <td>    0.017</td> <td>  -10.183</td> <td> 0.000</td> <td>   -0.201</td> <td>   -0.136</td>\n",
       "</tr>\n",
       "<tr>\n",
       "  <th>< High School-Dummy</th>              <td>   -0.8884</td> <td>    0.482</td> <td>   -1.842</td> <td> 0.065</td> <td>   -1.834</td> <td>    0.057</td>\n",
       "</tr>\n",
       "<tr>\n",
       "  <th>High School Grad</th>                 <td>   -0.0500</td> <td>    0.018</td> <td>   -2.810</td> <td> 0.005</td> <td>   -0.085</td> <td>   -0.015</td>\n",
       "</tr>\n",
       "<tr>\n",
       "  <th>High School Grad-Dummy</th>           <td>   -0.0622</td> <td>    0.760</td> <td>   -0.082</td> <td> 0.935</td> <td>   -1.552</td> <td>    1.428</td>\n",
       "</tr>\n",
       "<tr>\n",
       "  <th>Some College</th>                     <td>    0.0257</td> <td>    0.018</td> <td>    1.462</td> <td> 0.144</td> <td>   -0.009</td> <td>    0.060</td>\n",
       "</tr>\n",
       "<tr>\n",
       "  <th>Some College-Dummy</th>               <td>   -1.0385</td> <td>    0.920</td> <td>   -1.129</td> <td> 0.259</td> <td>   -2.842</td> <td>    0.765</td>\n",
       "</tr>\n",
       "<tr>\n",
       "  <th>College Grad</th>                     <td>    0.2886</td> <td>    0.021</td> <td>   13.549</td> <td> 0.000</td> <td>    0.247</td> <td>    0.330</td>\n",
       "</tr>\n",
       "<tr>\n",
       "  <th>College Grad-Dummy</th>               <td>    2.7214</td> <td>    0.748</td> <td>    3.637</td> <td> 0.000</td> <td>    1.254</td> <td>    4.188</td>\n",
       "</tr>\n",
       "<tr>\n",
       "  <th>Graduate School</th>                  <td>    0.2145</td> <td>    0.019</td> <td>   11.586</td> <td> 0.000</td> <td>    0.178</td> <td>    0.251</td>\n",
       "</tr>\n",
       "<tr>\n",
       "  <th>Graduate School-Dummy</th>            <td>    1.7537</td> <td>    0.471</td> <td>    3.723</td> <td> 0.000</td> <td>    0.830</td> <td>    2.677</td>\n",
       "</tr>\n",
       "</table>\n",
       "<table class=\"simpletable\">\n",
       "<tr>\n",
       "  <th>Omnibus:</th>       <td>318.597</td> <th>  Durbin-Watson:     </th> <td>   1.999</td> \n",
       "</tr>\n",
       "<tr>\n",
       "  <th>Prob(Omnibus):</th> <td> 0.000</td>  <th>  Jarque-Bera (JB):  </th> <td> 757.082</td> \n",
       "</tr>\n",
       "<tr>\n",
       "  <th>Skew:</th>          <td> 0.259</td>  <th>  Prob(JB):          </th> <td>4.00e-165</td>\n",
       "</tr>\n",
       "<tr>\n",
       "  <th>Kurtosis:</th>      <td> 4.498</td>  <th>  Cond. No.          </th> <td>1.06e+16</td> \n",
       "</tr>\n",
       "</table><br/><br/>Notes:<br/>[1] Standard Errors assume that the covariance matrix of the errors is correctly specified.<br/>[2] The smallest eigenvalue is 3.29e-19. This might indicate that there are<br/>strong multicollinearity problems or that the design matrix is singular."
      ],
      "text/plain": [
       "<class 'statsmodels.iolib.summary.Summary'>\n",
       "\"\"\"\n",
       "                                    OLS Regression Results                                   \n",
       "=============================================================================================\n",
       "Dep. Variable:     Percentage Standard Met and Above   R-squared:                       0.721\n",
       "Model:                                           OLS   Adj. R-squared:                  0.719\n",
       "Method:                                Least Squares   F-statistic:                     395.1\n",
       "Date:                               Sun, 02 May 2021   Prob (F-statistic):               0.00\n",
       "Time:                                       18:13:05   Log-Likelihood:                -27502.\n",
       "No. Observations:                               7234   AIC:                         5.510e+04\n",
       "Df Residuals:                                   7186   BIC:                         5.543e+04\n",
       "Df Model:                                         47                                         \n",
       "Covariance Type:                           nonrobust                                         \n",
       "====================================================================================================\n",
       "                                       coef    std err          t      P>|t|      [0.025      0.975]\n",
       "----------------------------------------------------------------------------------------------------\n",
       "Median Household Income          -2.016e-05    7.9e-06     -2.550      0.011   -3.56e-05   -4.66e-06\n",
       "CAASPP Reported Enrollment          -0.0051      0.001     -7.110      0.000      -0.007      -0.004\n",
       "CAASPP Reported Enrollment-Dummy   -60.3037     16.201     -3.722      0.000     -92.063     -28.544\n",
       "Enrollment K-12                      0.0047      0.001      7.881      0.000       0.004       0.006\n",
       "Enrollment K-12-Dummy               13.2168      1.795      7.363      0.000       9.698      16.735\n",
       "Total Revenue per Pupil              0.0006   8.83e-05      7.095      0.000       0.000       0.001\n",
       "Total Expenditures per Pupil        -0.0002   8.28e-05     -1.971      0.049      -0.000   -8.94e-07\n",
       "Free Meal Count K-12                 0.0027      0.001      2.369      0.018       0.000       0.005\n",
       "Current Expense Per ADA          -4.772e-05   3.07e-05     -1.556      0.120      -0.000    1.24e-05\n",
       "Male                                -0.2690      0.132     -2.045      0.041      -0.527      -0.011\n",
       "Male-Dummy                          24.5830      4.010      6.130      0.000      16.722      32.445\n",
       "Female                               0.2392      0.133      1.802      0.072      -0.021       0.499\n",
       "Female-Dummy                        -2.9176      2.646     -1.102      0.270      -8.105       2.270\n",
       "Military                             0.6336      0.300      2.109      0.035       0.045       1.223\n",
       "Military-Dummy                       0.8921      0.523      1.707      0.088      -0.132       1.916\n",
       "Non Military                         0.5501      0.300      1.835      0.067      -0.038       1.138\n",
       "Non Military-Dummy                 -60.3037     16.201     -3.722      0.000     -92.063     -28.544\n",
       "Homeless                             0.6488      0.119      5.432      0.000       0.415       0.883\n",
       "Homeless-Dummy                      -1.0279      0.373     -2.754      0.006      -1.759      -0.296\n",
       "Non Homeless                         0.6877      0.118      5.817      0.000       0.456       0.919\n",
       "Non Homeless-Dummy                 -27.1743      6.107     -4.450      0.000     -39.145     -15.204\n",
       "Disadvantaged                        0.0727      0.090      0.804      0.422      -0.105       0.250\n",
       "Disadvantaged-Dummy                 -2.3862      1.854     -1.287      0.198      -6.020       1.248\n",
       "Not Disadvantaged                    0.2897      0.091      3.201      0.001       0.112       0.467\n",
       "Not Disadvantaged-Dummy             -2.5699      1.090     -2.358      0.018      -4.706      -0.433\n",
       "Black                               -0.0351      0.031     -1.121      0.262      -0.096       0.026\n",
       "Black-Dummy                         -0.3017      0.357     -0.844      0.399      -1.002       0.399\n",
       "Native American                     -0.0712      0.046     -1.550      0.121      -0.161       0.019\n",
       "Native American-Dummy               -1.6752      0.484     -3.459      0.001      -2.624      -0.726\n",
       "Asian                                0.4532      0.030     15.292      0.000       0.395       0.511\n",
       "Asian-Dummy                          2.0739      0.364      5.699      0.000       1.361       2.787\n",
       "Hispanic                             0.2639      0.027      9.653      0.000       0.210       0.318\n",
       "Hispanic-Dummy                      -4.4601      1.324     -3.368      0.001      -7.056      -1.864\n",
       "Pacific Islander                    -0.6504      0.171     -3.813      0.000      -0.985      -0.316\n",
       "Pacific Islander-Dummy               0.6515      0.577      1.129      0.259      -0.480       1.783\n",
       "White                                0.2345      0.026      8.879      0.000       0.183       0.286\n",
       "White-Dummy                         -3.7228      0.483     -7.710      0.000      -4.669      -2.776\n",
       "Two/More Races                       0.2129      0.053      3.981      0.000       0.108       0.318\n",
       "Two/More Races-Dummy                -0.9158      0.435     -2.106      0.035      -1.768      -0.063\n",
       "< High School                       -0.1683      0.017    -10.183      0.000      -0.201      -0.136\n",
       "< High School-Dummy                 -0.8884      0.482     -1.842      0.065      -1.834       0.057\n",
       "High School Grad                    -0.0500      0.018     -2.810      0.005      -0.085      -0.015\n",
       "High School Grad-Dummy              -0.0622      0.760     -0.082      0.935      -1.552       1.428\n",
       "Some College                         0.0257      0.018      1.462      0.144      -0.009       0.060\n",
       "Some College-Dummy                  -1.0385      0.920     -1.129      0.259      -2.842       0.765\n",
       "College Grad                         0.2886      0.021     13.549      0.000       0.247       0.330\n",
       "College Grad-Dummy                   2.7214      0.748      3.637      0.000       1.254       4.188\n",
       "Graduate School                      0.2145      0.019     11.586      0.000       0.178       0.251\n",
       "Graduate School-Dummy                1.7537      0.471      3.723      0.000       0.830       2.677\n",
       "==============================================================================\n",
       "Omnibus:                      318.597   Durbin-Watson:                   1.999\n",
       "Prob(Omnibus):                  0.000   Jarque-Bera (JB):              757.082\n",
       "Skew:                           0.259   Prob(JB):                    4.00e-165\n",
       "Kurtosis:                       4.498   Cond. No.                     1.06e+16\n",
       "==============================================================================\n",
       "\n",
       "Notes:\n",
       "[1] Standard Errors assume that the covariance matrix of the errors is correctly specified.\n",
       "[2] The smallest eigenvalue is 3.29e-19. This might indicate that there are\n",
       "strong multicollinearity problems or that the design matrix is singular.\n",
       "\"\"\""
      ]
     },
     "execution_count": 22,
     "metadata": {},
     "output_type": "execute_result"
    }
   ],
   "source": [
    "rModel2_results.summary()"
   ]
  },
  {
   "cell_type": "code",
   "execution_count": 23,
   "metadata": {},
   "outputs": [],
   "source": [
    "# Make predictions of the dependent variable y. Use predict(), and plug in X_test as the parameter\n",
    "y_pred = rModel2_results.predict(X_test)\n"
   ]
  },
  {
   "cell_type": "code",
   "execution_count": 24,
   "metadata": {},
   "outputs": [
    {
     "data": {
      "text/plain": [
       "Text(0, 0.5, 'Predicted values')"
      ]
     },
     "execution_count": 24,
     "metadata": {},
     "output_type": "execute_result"
    },
    {
     "data": {
      "image/png": "[encoded data removed]",
      "text/plain": [
       "<Figure size 432x288 with 1 Axes>"
      ]
     },
     "metadata": {},
     "output_type": "display_data"
    }
   ],
   "source": [
    "# Plot the predictions\n",
    "# Build a scatterplot\n",
    "plt.scatter(y_test, y_pred)\n",
    "\n",
    "# Add a line for perfect correlation. Can you see what this line is doing? \n",
    "plt.plot([x for x in range(0,100)],[x for x in range(0,100)], color='red')\n",
    "\n",
    "# Label \n",
    "plt.title(\"Model 2 predictions vs. the actual values\")\n",
    "plt.xlabel(\"Actual values\")\n",
    "plt.ylabel(\"Predicted values\")"
   ]
  },
  {
   "cell_type": "markdown",
   "metadata": {},
   "source": [
    "## Model Performance\n",
    "- MAE\n",
    "- MSE\n",
    "- RMSE\n",
    "- R_squared"
   ]
  },
  {
   "cell_type": "code",
   "execution_count": 25,
   "metadata": {},
   "outputs": [],
   "source": [
    "# Define a function to check the RMSE\n",
    "# def rmse(predictions, targets):\n",
    "#     return np.sqrt(((predictions - targets) ** 2).mean())"
   ]
  },
  {
   "cell_type": "code",
   "execution_count": 26,
   "metadata": {},
   "outputs": [
    {
     "data": {
      "text/plain": [
       "8.507461195812601"
      ]
     },
     "execution_count": 26,
     "metadata": {},
     "output_type": "execute_result"
    }
   ],
   "source": [
    "median_mae = mean_absolute_error(y_test, y_pred)\n",
    "median_mae"
   ]
  },
  {
   "cell_type": "code",
   "execution_count": 27,
   "metadata": {},
   "outputs": [
    {
     "data": {
      "text/plain": [
       "126.24844007906644"
      ]
     },
     "execution_count": 27,
     "metadata": {},
     "output_type": "execute_result"
    }
   ],
   "source": [
    "# MSE - train, test\n",
    "median_mse = mean_squared_error(y_test, y_pred)\n",
    "median_mse"
   ]
  },
  {
   "cell_type": "code",
   "execution_count": 28,
   "metadata": {},
   "outputs": [
    {
     "data": {
      "text/plain": [
       "11.236033111337223"
      ]
     },
     "execution_count": 28,
     "metadata": {},
     "output_type": "execute_result"
    }
   ],
   "source": [
    "median_rmse = mean_squared_error(y_test, y_pred, squared=False)\n",
    "median_rmse"
   ]
  },
  {
   "cell_type": "code",
   "execution_count": 29,
   "metadata": {},
   "outputs": [
    {
     "data": {
      "text/plain": [
       "0.7149667683705045"
      ]
     },
     "execution_count": 29,
     "metadata": {},
     "output_type": "execute_result"
    }
   ],
   "source": [
    "median_r2 = r2_score(y_test, y_pred)\n",
    "median_r2\n"
   ]
  },
  {
   "cell_type": "markdown",
   "metadata": {},
   "source": [
    "# MODELING 2\n",
    "\n",
    "#### Train/Test Split\n",
    "\n",
    "- Drop highly correlated variables"
   ]
  },
  {
   "cell_type": "code",
   "execution_count": 30,
   "metadata": {},
   "outputs": [],
   "source": [
    "# dependent variable\n",
    "y = language_df['Percentage Standard Met and Above']\n",
    "\n",
    "# Include all columns from data in the explanatory variables X\n",
    "X = language_df.drop(['Percentage Standard Met and Above', 'Male', 'Male-Dummy','Non Military',\n",
    "       'Non Military-Dummy', 'Non Homeless', 'Total Expenditures per Pupil',\n",
    "       'Non Homeless-Dummy', 'Not Disadvantaged', 'Not Disadvantaged-Dummy'], axis=1)"
   ]
  },
  {
   "cell_type": "code",
   "execution_count": 31,
   "metadata": {},
   "outputs": [],
   "source": [
    "# Split data into test and training\n",
    "X_train, X_test, y_train, y_test = train_test_split(X, y, test_size = 0.25, random_state = 123)"
   ]
  },
  {
   "cell_type": "code",
   "execution_count": 32,
   "metadata": {},
   "outputs": [
    {
     "name": "stdout",
     "output_type": "stream",
     "text": [
      "X_train:  (7234, 40) y_train:  (7234,) X_test : (2412, 40) y_test:  (2412,)\n"
     ]
    }
   ],
   "source": [
    "# Check the shape of the X train, y_train, X_test and y_test to make sure the proportions are right\n",
    "print('X_train: ', X_train.shape, 'y_train: ', y_train.shape, 'X_test :' ,X_test.shape, 'y_test: ', y_test.shape)"
   ]
  },
  {
   "cell_type": "markdown",
   "metadata": {},
   "source": [
    "## Multiple regression\n",
    "1. sklearn"
   ]
  },
  {
   "cell_type": "code",
   "execution_count": 33,
   "metadata": {},
   "outputs": [],
   "source": [
    "# Create linear model\n",
    "rModel = linear_model.LinearRegression(normalize=True) # normalize=True parameter enables the handling of different scales\n"
   ]
  },
  {
   "cell_type": "code",
   "execution_count": 34,
   "metadata": {},
   "outputs": [
    {
     "data": {
      "text/plain": [
       "LinearRegression(normalize=True)"
      ]
     },
     "execution_count": 34,
     "metadata": {},
     "output_type": "execute_result"
    }
   ],
   "source": [
    "# Train model call .fit() method of rModel\n",
    "rModel.fit(X_train, y_train)"
   ]
  },
  {
   "cell_type": "code",
   "execution_count": 35,
   "metadata": {},
   "outputs": [
    {
     "name": "stdout",
     "output_type": "stream",
     "text": [
      "0.7165948804897219\n"
     ]
    }
   ],
   "source": [
    "# Predict on both x train and x test\n",
    "y_tr_pred = rModel.predict(X_train)\n",
    "y_te_pred = rModel.predict(X_test)\n",
    "\n",
    "# Evaluate the model call .score() on rModel with parameters X_train, y_train\n",
    "print(rModel.score(X_train, y_train))"
   ]
  },
  {
   "cell_type": "code",
   "execution_count": 36,
   "metadata": {},
   "outputs": [
    {
     "data": {
      "text/plain": [
       "(0.7165948804897219, 0.7114899359086679)"
      ]
     },
     "execution_count": 36,
     "metadata": {},
     "output_type": "execute_result"
    }
   ],
   "source": [
    "# Access model performance r^2 - train, test\n",
    "median_r2 = r2_score(y_train, y_tr_pred), r2_score(y_test, y_te_pred)\n",
    "median_r2"
   ]
  },
  {
   "cell_type": "code",
   "execution_count": 37,
   "metadata": {},
   "outputs": [
    {
     "data": {
      "text/plain": [
       "Text(0, 0.5, 'Predicted values')"
      ]
     },
     "execution_count": 37,
     "metadata": {},
     "output_type": "execute_result"
    },
    {
     "data": {
      "image/png": "[encoded data removed]",
      "text/plain": [
       "<Figure size 432x288 with 1 Axes>"
      ]
     },
     "metadata": {},
     "output_type": "display_data"
    }
   ],
   "source": [
    "# Let's plot the predictions against the actual result. Use scatter()\n",
    "plt.scatter(y_test, y_te_pred)\n",
    "\n",
    "# Label \n",
    "plt.title(\"Model 3 predictions vs. the actual values\")\n",
    "plt.xlabel(\"Actual values\")\n",
    "plt.ylabel(\"Predicted values\")"
   ]
  },
  {
   "cell_type": "markdown",
   "metadata": {},
   "source": [
    "## Ordinary Least Square Method (OLS)\n",
    "2. Statsmodel\n",
    "\n",
    "#### Train/Test Split"
   ]
  },
  {
   "cell_type": "code",
   "execution_count": 38,
   "metadata": {},
   "outputs": [],
   "source": [
    "# Create test and train datasets\n",
    "# Include the columns below from data in the explanatory variables X \n",
    "X = language_df.drop(['Percentage Standard Met and Above', 'Male', 'Male-Dummy','Non Military',\n",
    "       'Non Military-Dummy', 'Non Homeless', 'Total Expenditures per Pupil',\n",
    "       'Non Homeless-Dummy', 'Not Disadvantaged', 'Not Disadvantaged-Dummy'], axis=1)\n",
    "\n",
    "# Create constants for X, so the model knows its bounds\n",
    "X = sm.add_constant(X)\n",
    "y = language_df['Percentage Standard Met and Above']"
   ]
  },
  {
   "cell_type": "code",
   "execution_count": 39,
   "metadata": {},
   "outputs": [
    {
     "name": "stdout",
     "output_type": "stream",
     "text": [
      "X_train:  (7234, 40) y_train:  (7234,) X_test : (2412, 40) y_test:  (2412,)\n"
     ]
    }
   ],
   "source": [
    "# Split the data\n",
    "X_train, X_test, y_train, y_test = train_test_split(X, y, test_size = 0.25, random_state = 123)\n",
    "\n",
    "# We now want to check the shape of the X train, y_train, X_test and y_test to make sure the proportions are right. \n",
    "print('X_train: ', X_train.shape, 'y_train: ', y_train.shape, 'X_test :' ,X_test.shape, 'y_test: ', y_test.shape)\n"
   ]
  },
  {
   "cell_type": "code",
   "execution_count": 40,
   "metadata": {},
   "outputs": [],
   "source": [
    "# We can use almost identical code to create the third model, because it is the same algorithm, just different inputs\n",
    "# Create the model\n",
    "rModel2 = sm.OLS(y_train, X_train)"
   ]
  },
  {
   "cell_type": "code",
   "execution_count": 41,
   "metadata": {},
   "outputs": [
    {
     "data": {
      "text/html": [
       "<table class=\"simpletable\">\n",
       "<caption>OLS Regression Results</caption>\n",
       "<tr>\n",
       "  <th>Dep. Variable:</th>    <td>Percentage Standard Met and Above</td> <th>  R-squared:         </th> <td>   0.717</td> \n",
       "</tr>\n",
       "<tr>\n",
       "  <th>Model:</th>                           <td>OLS</td>                <th>  Adj. R-squared:    </th> <td>   0.715</td> \n",
       "</tr>\n",
       "<tr>\n",
       "  <th>Method:</th>                     <td>Least Squares</td>           <th>  F-statistic:       </th> <td>   466.4</td> \n",
       "</tr>\n",
       "<tr>\n",
       "  <th>Date:</th>                     <td>Sun, 02 May 2021</td>          <th>  Prob (F-statistic):</th>  <td>  0.00</td>  \n",
       "</tr>\n",
       "<tr>\n",
       "  <th>Time:</th>                         <td>18:13:06</td>              <th>  Log-Likelihood:    </th> <td> -27558.</td> \n",
       "</tr>\n",
       "<tr>\n",
       "  <th>No. Observations:</th>              <td>  7234</td>               <th>  AIC:               </th> <td>5.520e+04</td>\n",
       "</tr>\n",
       "<tr>\n",
       "  <th>Df Residuals:</th>                  <td>  7194</td>               <th>  BIC:               </th> <td>5.547e+04</td>\n",
       "</tr>\n",
       "<tr>\n",
       "  <th>Df Model:</th>                      <td>    39</td>               <th>                     </th>     <td> </td>    \n",
       "</tr>\n",
       "<tr>\n",
       "  <th>Covariance Type:</th>              <td>nonrobust</td>             <th>                     </th>     <td> </td>    \n",
       "</tr>\n",
       "</table>\n",
       "<table class=\"simpletable\">\n",
       "<tr>\n",
       "                  <td></td>                    <th>coef</th>     <th>std err</th>      <th>t</th>      <th>P>|t|</th>  <th>[0.025</th>    <th>0.975]</th>  \n",
       "</tr>\n",
       "<tr>\n",
       "  <th>Median Household Income</th>          <td>-2.048e-05</td> <td> 7.96e-06</td> <td>   -2.574</td> <td> 0.010</td> <td>-3.61e-05</td> <td>-4.88e-06</td>\n",
       "</tr>\n",
       "<tr>\n",
       "  <th>CAASPP Reported Enrollment</th>       <td>   -0.0050</td> <td>    0.001</td> <td>   -6.924</td> <td> 0.000</td> <td>   -0.006</td> <td>   -0.004</td>\n",
       "</tr>\n",
       "<tr>\n",
       "  <th>CAASPP Reported Enrollment-Dummy</th> <td>   -3.4164</td> <td>    3.006</td> <td>   -1.136</td> <td> 0.256</td> <td>   -9.309</td> <td>    2.477</td>\n",
       "</tr>\n",
       "<tr>\n",
       "  <th>Enrollment K-12</th>                  <td>    0.0048</td> <td>    0.001</td> <td>    8.001</td> <td> 0.000</td> <td>    0.004</td> <td>    0.006</td>\n",
       "</tr>\n",
       "<tr>\n",
       "  <th>Enrollment K-12-Dummy</th>            <td>   12.6218</td> <td>    1.797</td> <td>    7.023</td> <td> 0.000</td> <td>    9.099</td> <td>   16.145</td>\n",
       "</tr>\n",
       "<tr>\n",
       "  <th>Total Revenue per Pupil</th>          <td>    0.0005</td> <td>  4.2e-05</td> <td>   10.945</td> <td> 0.000</td> <td>    0.000</td> <td>    0.001</td>\n",
       "</tr>\n",
       "<tr>\n",
       "  <th>Free Meal Count K-12</th>             <td>    0.0027</td> <td>    0.001</td> <td>    2.407</td> <td> 0.016</td> <td>    0.001</td> <td>    0.005</td>\n",
       "</tr>\n",
       "<tr>\n",
       "  <th>Current Expense Per ADA</th>          <td>-4.028e-05</td> <td> 3.09e-05</td> <td>   -1.305</td> <td> 0.192</td> <td>   -0.000</td> <td> 2.02e-05</td>\n",
       "</tr>\n",
       "<tr>\n",
       "  <th>Female</th>                           <td>    0.4783</td> <td>    0.023</td> <td>   21.183</td> <td> 0.000</td> <td>    0.434</td> <td>    0.523</td>\n",
       "</tr>\n",
       "<tr>\n",
       "  <th>Female-Dummy</th>                     <td>   -4.5524</td> <td>    1.765</td> <td>   -2.579</td> <td> 0.010</td> <td>   -8.013</td> <td>   -1.092</td>\n",
       "</tr>\n",
       "<tr>\n",
       "  <th>Military</th>                         <td>    0.0850</td> <td>    0.029</td> <td>    2.911</td> <td> 0.004</td> <td>    0.028</td> <td>    0.142</td>\n",
       "</tr>\n",
       "<tr>\n",
       "  <th>Military-Dummy</th>                   <td>    1.3531</td> <td>    0.453</td> <td>    2.988</td> <td> 0.003</td> <td>    0.465</td> <td>    2.241</td>\n",
       "</tr>\n",
       "<tr>\n",
       "  <th>Homeless</th>                         <td>   -0.0027</td> <td>    0.023</td> <td>   -0.115</td> <td> 0.908</td> <td>   -0.048</td> <td>    0.043</td>\n",
       "</tr>\n",
       "<tr>\n",
       "  <th>Homeless-Dummy</th>                   <td>   -0.5069</td> <td>    0.353</td> <td>   -1.438</td> <td> 0.151</td> <td>   -1.198</td> <td>    0.184</td>\n",
       "</tr>\n",
       "<tr>\n",
       "  <th>Disadvantaged</th>                    <td>   -0.2186</td> <td>    0.014</td> <td>  -15.087</td> <td> 0.000</td> <td>   -0.247</td> <td>   -0.190</td>\n",
       "</tr>\n",
       "<tr>\n",
       "  <th>Disadvantaged-Dummy</th>              <td>   -1.2686</td> <td>    1.767</td> <td>   -0.718</td> <td> 0.473</td> <td>   -4.732</td> <td>    2.195</td>\n",
       "</tr>\n",
       "<tr>\n",
       "  <th>Black</th>                            <td>   -0.0082</td> <td>    0.031</td> <td>   -0.264</td> <td> 0.792</td> <td>   -0.070</td> <td>    0.053</td>\n",
       "</tr>\n",
       "<tr>\n",
       "  <th>Black-Dummy</th>                      <td>   -0.2658</td> <td>    0.360</td> <td>   -0.739</td> <td> 0.460</td> <td>   -0.971</td> <td>    0.439</td>\n",
       "</tr>\n",
       "<tr>\n",
       "  <th>Native American</th>                  <td>   -0.0609</td> <td>    0.046</td> <td>   -1.321</td> <td> 0.187</td> <td>   -0.151</td> <td>    0.029</td>\n",
       "</tr>\n",
       "<tr>\n",
       "  <th>Native American-Dummy</th>            <td>   -1.6304</td> <td>    0.488</td> <td>   -3.344</td> <td> 0.001</td> <td>   -2.586</td> <td>   -0.675</td>\n",
       "</tr>\n",
       "<tr>\n",
       "  <th>Asian</th>                            <td>    0.4856</td> <td>    0.030</td> <td>   16.421</td> <td> 0.000</td> <td>    0.428</td> <td>    0.544</td>\n",
       "</tr>\n",
       "<tr>\n",
       "  <th>Asian-Dummy</th>                      <td>    2.1147</td> <td>    0.366</td> <td>    5.773</td> <td> 0.000</td> <td>    1.397</td> <td>    2.833</td>\n",
       "</tr>\n",
       "<tr>\n",
       "  <th>Hispanic</th>                         <td>    0.2928</td> <td>    0.027</td> <td>   10.739</td> <td> 0.000</td> <td>    0.239</td> <td>    0.346</td>\n",
       "</tr>\n",
       "<tr>\n",
       "  <th>Hispanic-Dummy</th>                   <td>   -4.1666</td> <td>    1.318</td> <td>   -3.162</td> <td> 0.002</td> <td>   -6.750</td> <td>   -1.584</td>\n",
       "</tr>\n",
       "<tr>\n",
       "  <th>Pacific Islander</th>                 <td>   -0.6046</td> <td>    0.171</td> <td>   -3.528</td> <td> 0.000</td> <td>   -0.941</td> <td>   -0.269</td>\n",
       "</tr>\n",
       "<tr>\n",
       "  <th>Pacific Islander-Dummy</th>           <td>    0.5918</td> <td>    0.581</td> <td>    1.019</td> <td> 0.308</td> <td>   -0.547</td> <td>    1.731</td>\n",
       "</tr>\n",
       "<tr>\n",
       "  <th>White</th>                            <td>    0.2623</td> <td>    0.026</td> <td>    9.940</td> <td> 0.000</td> <td>    0.211</td> <td>    0.314</td>\n",
       "</tr>\n",
       "<tr>\n",
       "  <th>White-Dummy</th>                      <td>   -3.8452</td> <td>    0.484</td> <td>   -7.937</td> <td> 0.000</td> <td>   -4.795</td> <td>   -2.895</td>\n",
       "</tr>\n",
       "<tr>\n",
       "  <th>Two/More Races</th>                   <td>    0.2536</td> <td>    0.054</td> <td>    4.728</td> <td> 0.000</td> <td>    0.148</td> <td>    0.359</td>\n",
       "</tr>\n",
       "<tr>\n",
       "  <th>Two/More Races-Dummy</th>             <td>   -0.8506</td> <td>    0.437</td> <td>   -1.944</td> <td> 0.052</td> <td>   -1.708</td> <td>    0.007</td>\n",
       "</tr>\n",
       "<tr>\n",
       "  <th>< High School</th>                    <td>   -0.1622</td> <td>    0.017</td> <td>   -9.783</td> <td> 0.000</td> <td>   -0.195</td> <td>   -0.130</td>\n",
       "</tr>\n",
       "<tr>\n",
       "  <th>< High School-Dummy</th>              <td>   -0.8323</td> <td>    0.485</td> <td>   -1.717</td> <td> 0.086</td> <td>   -1.782</td> <td>    0.118</td>\n",
       "</tr>\n",
       "<tr>\n",
       "  <th>High School Grad</th>                 <td>   -0.0567</td> <td>    0.018</td> <td>   -3.180</td> <td> 0.001</td> <td>   -0.092</td> <td>   -0.022</td>\n",
       "</tr>\n",
       "<tr>\n",
       "  <th>High School Grad-Dummy</th>           <td>    0.2109</td> <td>    0.765</td> <td>    0.276</td> <td> 0.783</td> <td>   -1.289</td> <td>    1.710</td>\n",
       "</tr>\n",
       "<tr>\n",
       "  <th>Some College</th>                     <td>    0.0244</td> <td>    0.018</td> <td>    1.379</td> <td> 0.168</td> <td>   -0.010</td> <td>    0.059</td>\n",
       "</tr>\n",
       "<tr>\n",
       "  <th>Some College-Dummy</th>               <td>   -0.5002</td> <td>    0.920</td> <td>   -0.544</td> <td> 0.587</td> <td>   -2.303</td> <td>    1.303</td>\n",
       "</tr>\n",
       "<tr>\n",
       "  <th>College Grad</th>                     <td>    0.2895</td> <td>    0.021</td> <td>   13.624</td> <td> 0.000</td> <td>    0.248</td> <td>    0.331</td>\n",
       "</tr>\n",
       "<tr>\n",
       "  <th>College Grad-Dummy</th>               <td>    3.5519</td> <td>    0.720</td> <td>    4.932</td> <td> 0.000</td> <td>    2.140</td> <td>    4.964</td>\n",
       "</tr>\n",
       "<tr>\n",
       "  <th>Graduate School</th>                  <td>    0.2144</td> <td>    0.018</td> <td>   11.612</td> <td> 0.000</td> <td>    0.178</td> <td>    0.251</td>\n",
       "</tr>\n",
       "<tr>\n",
       "  <th>Graduate School-Dummy</th>            <td>    1.9390</td> <td>    0.473</td> <td>    4.099</td> <td> 0.000</td> <td>    1.012</td> <td>    2.866</td>\n",
       "</tr>\n",
       "</table>\n",
       "<table class=\"simpletable\">\n",
       "<tr>\n",
       "  <th>Omnibus:</th>       <td>323.770</td> <th>  Durbin-Watson:     </th> <td>   2.007</td> \n",
       "</tr>\n",
       "<tr>\n",
       "  <th>Prob(Omnibus):</th> <td> 0.000</td>  <th>  Jarque-Bera (JB):  </th> <td> 772.334</td> \n",
       "</tr>\n",
       "<tr>\n",
       "  <th>Skew:</th>          <td> 0.263</td>  <th>  Prob(JB):          </th> <td>1.95e-168</td>\n",
       "</tr>\n",
       "<tr>\n",
       "  <th>Kurtosis:</th>      <td> 4.512</td>  <th>  Cond. No.          </th> <td>1.72e+06</td> \n",
       "</tr>\n",
       "</table><br/><br/>Notes:<br/>[1] Standard Errors assume that the covariance matrix of the errors is correctly specified.<br/>[2] The condition number is large, 1.72e+06. This might indicate that there are<br/>strong multicollinearity or other numerical problems."
      ],
      "text/plain": [
       "<class 'statsmodels.iolib.summary.Summary'>\n",
       "\"\"\"\n",
       "                                    OLS Regression Results                                   \n",
       "=============================================================================================\n",
       "Dep. Variable:     Percentage Standard Met and Above   R-squared:                       0.717\n",
       "Model:                                           OLS   Adj. R-squared:                  0.715\n",
       "Method:                                Least Squares   F-statistic:                     466.4\n",
       "Date:                               Sun, 02 May 2021   Prob (F-statistic):               0.00\n",
       "Time:                                       18:13:06   Log-Likelihood:                -27558.\n",
       "No. Observations:                               7234   AIC:                         5.520e+04\n",
       "Df Residuals:                                   7194   BIC:                         5.547e+04\n",
       "Df Model:                                         39                                         \n",
       "Covariance Type:                           nonrobust                                         \n",
       "====================================================================================================\n",
       "                                       coef    std err          t      P>|t|      [0.025      0.975]\n",
       "----------------------------------------------------------------------------------------------------\n",
       "Median Household Income          -2.048e-05   7.96e-06     -2.574      0.010   -3.61e-05   -4.88e-06\n",
       "CAASPP Reported Enrollment          -0.0050      0.001     -6.924      0.000      -0.006      -0.004\n",
       "CAASPP Reported Enrollment-Dummy    -3.4164      3.006     -1.136      0.256      -9.309       2.477\n",
       "Enrollment K-12                      0.0048      0.001      8.001      0.000       0.004       0.006\n",
       "Enrollment K-12-Dummy               12.6218      1.797      7.023      0.000       9.099      16.145\n",
       "Total Revenue per Pupil              0.0005    4.2e-05     10.945      0.000       0.000       0.001\n",
       "Free Meal Count K-12                 0.0027      0.001      2.407      0.016       0.001       0.005\n",
       "Current Expense Per ADA          -4.028e-05   3.09e-05     -1.305      0.192      -0.000    2.02e-05\n",
       "Female                               0.4783      0.023     21.183      0.000       0.434       0.523\n",
       "Female-Dummy                        -4.5524      1.765     -2.579      0.010      -8.013      -1.092\n",
       "Military                             0.0850      0.029      2.911      0.004       0.028       0.142\n",
       "Military-Dummy                       1.3531      0.453      2.988      0.003       0.465       2.241\n",
       "Homeless                            -0.0027      0.023     -0.115      0.908      -0.048       0.043\n",
       "Homeless-Dummy                      -0.5069      0.353     -1.438      0.151      -1.198       0.184\n",
       "Disadvantaged                       -0.2186      0.014    -15.087      0.000      -0.247      -0.190\n",
       "Disadvantaged-Dummy                 -1.2686      1.767     -0.718      0.473      -4.732       2.195\n",
       "Black                               -0.0082      0.031     -0.264      0.792      -0.070       0.053\n",
       "Black-Dummy                         -0.2658      0.360     -0.739      0.460      -0.971       0.439\n",
       "Native American                     -0.0609      0.046     -1.321      0.187      -0.151       0.029\n",
       "Native American-Dummy               -1.6304      0.488     -3.344      0.001      -2.586      -0.675\n",
       "Asian                                0.4856      0.030     16.421      0.000       0.428       0.544\n",
       "Asian-Dummy                          2.1147      0.366      5.773      0.000       1.397       2.833\n",
       "Hispanic                             0.2928      0.027     10.739      0.000       0.239       0.346\n",
       "Hispanic-Dummy                      -4.1666      1.318     -3.162      0.002      -6.750      -1.584\n",
       "Pacific Islander                    -0.6046      0.171     -3.528      0.000      -0.941      -0.269\n",
       "Pacific Islander-Dummy               0.5918      0.581      1.019      0.308      -0.547       1.731\n",
       "White                                0.2623      0.026      9.940      0.000       0.211       0.314\n",
       "White-Dummy                         -3.8452      0.484     -7.937      0.000      -4.795      -2.895\n",
       "Two/More Races                       0.2536      0.054      4.728      0.000       0.148       0.359\n",
       "Two/More Races-Dummy                -0.8506      0.437     -1.944      0.052      -1.708       0.007\n",
       "< High School                       -0.1622      0.017     -9.783      0.000      -0.195      -0.130\n",
       "< High School-Dummy                 -0.8323      0.485     -1.717      0.086      -1.782       0.118\n",
       "High School Grad                    -0.0567      0.018     -3.180      0.001      -0.092      -0.022\n",
       "High School Grad-Dummy               0.2109      0.765      0.276      0.783      -1.289       1.710\n",
       "Some College                         0.0244      0.018      1.379      0.168      -0.010       0.059\n",
       "Some College-Dummy                  -0.5002      0.920     -0.544      0.587      -2.303       1.303\n",
       "College Grad                         0.2895      0.021     13.624      0.000       0.248       0.331\n",
       "College Grad-Dummy                   3.5519      0.720      4.932      0.000       2.140       4.964\n",
       "Graduate School                      0.2144      0.018     11.612      0.000       0.178       0.251\n",
       "Graduate School-Dummy                1.9390      0.473      4.099      0.000       1.012       2.866\n",
       "==============================================================================\n",
       "Omnibus:                      323.770   Durbin-Watson:                   2.007\n",
       "Prob(Omnibus):                  0.000   Jarque-Bera (JB):              772.334\n",
       "Skew:                           0.263   Prob(JB):                    1.95e-168\n",
       "Kurtosis:                       4.512   Cond. No.                     1.72e+06\n",
       "==============================================================================\n",
       "\n",
       "Notes:\n",
       "[1] Standard Errors assume that the covariance matrix of the errors is correctly specified.\n",
       "[2] The condition number is large, 1.72e+06. This might indicate that there are\n",
       "strong multicollinearity or other numerical problems.\n",
       "\"\"\""
      ]
     },
     "execution_count": 41,
     "metadata": {},
     "output_type": "execute_result"
    }
   ],
   "source": [
    "# Fit the model\n",
    "rModel2_results = rModel2.fit()\n",
    "\n",
    "rModel2_results.summary()"
   ]
  },
  {
   "cell_type": "code",
   "execution_count": 42,
   "metadata": {},
   "outputs": [],
   "source": [
    "# Make predictions of the dependent variable y. Use predict(), and plug in X_test as the parameter\n",
    "y_pred = rModel2_results.predict(X_test)\n"
   ]
  },
  {
   "cell_type": "code",
   "execution_count": 43,
   "metadata": {},
   "outputs": [
    {
     "data": {
      "text/plain": [
       "Text(0, 0.5, 'Predicted values')"
      ]
     },
     "execution_count": 43,
     "metadata": {},
     "output_type": "execute_result"
    },
    {
     "data": {
      "image/png": "[encoded data removed]",
      "text/plain": [
       "<Figure size 432x288 with 1 Axes>"
      ]
     },
     "metadata": {},
     "output_type": "display_data"
    }
   ],
   "source": [
    "# Plot the predictions\n",
    "# Build a scatterplot\n",
    "plt.scatter(y_test, y_pred)\n",
    "\n",
    "# Add a line for perfect correlation. Can you see what this line is doing? \n",
    "plt.plot([x for x in range(0,100)],[x for x in range(0,100)], color='red')\n",
    "\n",
    "# Label \n",
    "plt.title(\"Model 4 predictions vs. the actual values\")\n",
    "plt.xlabel(\"Actual values\")\n",
    "plt.ylabel(\"Predicted values\")"
   ]
  },
  {
   "cell_type": "markdown",
   "metadata": {},
   "source": [
    "## Model Performance\n",
    "- MAE\n",
    "- MSE\n",
    "- RMSE\n",
    "- R_squared"
   ]
  },
  {
   "cell_type": "code",
   "execution_count": 44,
   "metadata": {},
   "outputs": [
    {
     "data": {
      "text/plain": [
       "8.5576399841558"
      ]
     },
     "execution_count": 44,
     "metadata": {},
     "output_type": "execute_result"
    }
   ],
   "source": [
    "# MAE\n",
    "median_mae = mean_absolute_error(y_test, y_pred)\n",
    "median_mae\n"
   ]
  },
  {
   "cell_type": "code",
   "execution_count": 45,
   "metadata": {},
   "outputs": [
    {
     "data": {
      "text/plain": [
       "127.78841726775137"
      ]
     },
     "execution_count": 45,
     "metadata": {},
     "output_type": "execute_result"
    }
   ],
   "source": [
    "# MSE - train, test\n",
    "median_mse = mean_squared_error(y_test, y_pred)\n",
    "median_mse"
   ]
  },
  {
   "cell_type": "code",
   "execution_count": 46,
   "metadata": {},
   "outputs": [
    {
     "data": {
      "text/plain": [
       "11.304353907577"
      ]
     },
     "execution_count": 46,
     "metadata": {},
     "output_type": "execute_result"
    }
   ],
   "source": [
    "median_rmse = mean_squared_error(y_test, y_pred, squared=False)\n",
    "median_rmse"
   ]
  },
  {
   "cell_type": "code",
   "execution_count": 47,
   "metadata": {},
   "outputs": [
    {
     "data": {
      "text/plain": [
       "0.7114899359086406"
      ]
     },
     "execution_count": 47,
     "metadata": {},
     "output_type": "execute_result"
    }
   ],
   "source": [
    "# R_squared\n",
    "median_r2 = r2_score(y_test, y_pred)\n",
    "median_r2"
   ]
  },
  {
   "cell_type": "markdown",
   "metadata": {},
   "source": [
    "# MODELING 3\n",
    "\n",
    "#### Train/Test Split\n",
    "\n",
    "- Drop highly correlated variables and dummy columns"
   ]
  },
  {
   "cell_type": "code",
   "execution_count": 48,
   "metadata": {},
   "outputs": [
    {
     "data": {
      "text/html": [
       "<div>\n",
       "<style scoped>\n",
       "    .dataframe tbody tr th:only-of-type {\n",
       "        vertical-align: middle;\n",
       "    }\n",
       "\n",
       "    .dataframe tbody tr th {\n",
       "        vertical-align: top;\n",
       "    }\n",
       "\n",
       "    .dataframe thead th {\n",
       "        text-align: right;\n",
       "    }\n",
       "</style>\n",
       "<table border=\"1\" class=\"dataframe\">\n",
       "  <thead>\n",
       "    <tr style=\"text-align: right;\">\n",
       "      <th></th>\n",
       "      <th>Median Household Income</th>\n",
       "      <th>CAASPP Reported Enrollment</th>\n",
       "      <th>Enrollment K-12</th>\n",
       "      <th>Total Revenue per Pupil</th>\n",
       "      <th>Total Expenditures per Pupil</th>\n",
       "      <th>Free Meal Count K-12</th>\n",
       "      <th>Current Expense Per ADA</th>\n",
       "      <th>Male</th>\n",
       "      <th>Female</th>\n",
       "      <th>Military</th>\n",
       "      <th>...</th>\n",
       "      <th>Hispanic</th>\n",
       "      <th>Pacific Islander</th>\n",
       "      <th>White</th>\n",
       "      <th>Two/More Races</th>\n",
       "      <th>&lt; High School</th>\n",
       "      <th>High School Grad</th>\n",
       "      <th>Some College</th>\n",
       "      <th>College Grad</th>\n",
       "      <th>Graduate School</th>\n",
       "      <th>Percentage Standard Met and Above</th>\n",
       "    </tr>\n",
       "  </thead>\n",
       "  <tbody>\n",
       "    <tr>\n",
       "      <th>0</th>\n",
       "      <td>64738.0</td>\n",
       "      <td>58.0</td>\n",
       "      <td>88.0</td>\n",
       "      <td>12626.0</td>\n",
       "      <td>14449.0</td>\n",
       "      <td>41.0</td>\n",
       "      <td>11384.420846</td>\n",
       "      <td>44.83</td>\n",
       "      <td>55.17</td>\n",
       "      <td>-1.0</td>\n",
       "      <td>...</td>\n",
       "      <td>56.90</td>\n",
       "      <td>-1.00</td>\n",
       "      <td>31.03</td>\n",
       "      <td>-1.00</td>\n",
       "      <td>10.34</td>\n",
       "      <td>22.41</td>\n",
       "      <td>37.93</td>\n",
       "      <td>15.52</td>\n",
       "      <td>6.90</td>\n",
       "      <td>44.64</td>\n",
       "    </tr>\n",
       "    <tr>\n",
       "      <th>1</th>\n",
       "      <td>84051.0</td>\n",
       "      <td>447.0</td>\n",
       "      <td>739.0</td>\n",
       "      <td>13641.0</td>\n",
       "      <td>11589.0</td>\n",
       "      <td>246.0</td>\n",
       "      <td>10758.663825</td>\n",
       "      <td>52.13</td>\n",
       "      <td>47.87</td>\n",
       "      <td>0.0</td>\n",
       "      <td>...</td>\n",
       "      <td>29.31</td>\n",
       "      <td>0.00</td>\n",
       "      <td>24.83</td>\n",
       "      <td>1.57</td>\n",
       "      <td>3.36</td>\n",
       "      <td>9.84</td>\n",
       "      <td>19.02</td>\n",
       "      <td>30.87</td>\n",
       "      <td>27.07</td>\n",
       "      <td>65.60</td>\n",
       "    </tr>\n",
       "    <tr>\n",
       "      <th>2</th>\n",
       "      <td>48345.0</td>\n",
       "      <td>192.0</td>\n",
       "      <td>366.0</td>\n",
       "      <td>14695.0</td>\n",
       "      <td>16663.0</td>\n",
       "      <td>187.0</td>\n",
       "      <td>12964.447700</td>\n",
       "      <td>44.79</td>\n",
       "      <td>55.21</td>\n",
       "      <td>12.5</td>\n",
       "      <td>...</td>\n",
       "      <td>22.40</td>\n",
       "      <td>-1.00</td>\n",
       "      <td>5.21</td>\n",
       "      <td>3.12</td>\n",
       "      <td>0.00</td>\n",
       "      <td>6.77</td>\n",
       "      <td>7.29</td>\n",
       "      <td>17.19</td>\n",
       "      <td>3.12</td>\n",
       "      <td>81.18</td>\n",
       "    </tr>\n",
       "    <tr>\n",
       "      <th>3</th>\n",
       "      <td>64089.0</td>\n",
       "      <td>585.0</td>\n",
       "      <td>611.0</td>\n",
       "      <td>13166.0</td>\n",
       "      <td>12601.0</td>\n",
       "      <td>422.0</td>\n",
       "      <td>10744.324251</td>\n",
       "      <td>52.82</td>\n",
       "      <td>47.18</td>\n",
       "      <td>-1.0</td>\n",
       "      <td>...</td>\n",
       "      <td>90.94</td>\n",
       "      <td>0.00</td>\n",
       "      <td>2.56</td>\n",
       "      <td>0.00</td>\n",
       "      <td>38.12</td>\n",
       "      <td>28.72</td>\n",
       "      <td>14.02</td>\n",
       "      <td>6.67</td>\n",
       "      <td>2.56</td>\n",
       "      <td>30.38</td>\n",
       "    </tr>\n",
       "    <tr>\n",
       "      <th>4</th>\n",
       "      <td>57470.0</td>\n",
       "      <td>184.0</td>\n",
       "      <td>371.0</td>\n",
       "      <td>14788.0</td>\n",
       "      <td>15286.0</td>\n",
       "      <td>262.0</td>\n",
       "      <td>15524.553854</td>\n",
       "      <td>50.00</td>\n",
       "      <td>50.00</td>\n",
       "      <td>-1.0</td>\n",
       "      <td>...</td>\n",
       "      <td>90.22</td>\n",
       "      <td>-1.00</td>\n",
       "      <td>0.00</td>\n",
       "      <td>0.00</td>\n",
       "      <td>44.57</td>\n",
       "      <td>29.89</td>\n",
       "      <td>13.04</td>\n",
       "      <td>8.15</td>\n",
       "      <td>0.00</td>\n",
       "      <td>29.83</td>\n",
       "    </tr>\n",
       "    <tr>\n",
       "      <th>...</th>\n",
       "      <td>...</td>\n",
       "      <td>...</td>\n",
       "      <td>...</td>\n",
       "      <td>...</td>\n",
       "      <td>...</td>\n",
       "      <td>...</td>\n",
       "      <td>...</td>\n",
       "      <td>...</td>\n",
       "      <td>...</td>\n",
       "      <td>...</td>\n",
       "      <td>...</td>\n",
       "      <td>...</td>\n",
       "      <td>...</td>\n",
       "      <td>...</td>\n",
       "      <td>...</td>\n",
       "      <td>...</td>\n",
       "      <td>...</td>\n",
       "      <td>...</td>\n",
       "      <td>...</td>\n",
       "      <td>...</td>\n",
       "      <td>...</td>\n",
       "    </tr>\n",
       "    <tr>\n",
       "      <th>9641</th>\n",
       "      <td>89403.0</td>\n",
       "      <td>52.0</td>\n",
       "      <td>73.0</td>\n",
       "      <td>3811.0</td>\n",
       "      <td>3425.0</td>\n",
       "      <td>28.0</td>\n",
       "      <td>14260.002822</td>\n",
       "      <td>36.54</td>\n",
       "      <td>63.46</td>\n",
       "      <td>-1.0</td>\n",
       "      <td>...</td>\n",
       "      <td>26.92</td>\n",
       "      <td>-1.00</td>\n",
       "      <td>42.31</td>\n",
       "      <td>0.00</td>\n",
       "      <td>0.00</td>\n",
       "      <td>0.00</td>\n",
       "      <td>21.15</td>\n",
       "      <td>34.62</td>\n",
       "      <td>23.08</td>\n",
       "      <td>50.00</td>\n",
       "    </tr>\n",
       "    <tr>\n",
       "      <th>9642</th>\n",
       "      <td>105659.0</td>\n",
       "      <td>64.0</td>\n",
       "      <td>119.0</td>\n",
       "      <td>3811.0</td>\n",
       "      <td>3425.0</td>\n",
       "      <td>35.0</td>\n",
       "      <td>14260.002822</td>\n",
       "      <td>56.25</td>\n",
       "      <td>43.75</td>\n",
       "      <td>0.0</td>\n",
       "      <td>...</td>\n",
       "      <td>37.50</td>\n",
       "      <td>-1.00</td>\n",
       "      <td>46.88</td>\n",
       "      <td>14.06</td>\n",
       "      <td>-1.00</td>\n",
       "      <td>0.00</td>\n",
       "      <td>26.56</td>\n",
       "      <td>25.00</td>\n",
       "      <td>15.62</td>\n",
       "      <td>37.93</td>\n",
       "    </tr>\n",
       "    <tr>\n",
       "      <th>9643</th>\n",
       "      <td>94173.0</td>\n",
       "      <td>405.0</td>\n",
       "      <td>702.0</td>\n",
       "      <td>15219.0</td>\n",
       "      <td>15708.0</td>\n",
       "      <td>373.0</td>\n",
       "      <td>12964.578388</td>\n",
       "      <td>46.17</td>\n",
       "      <td>53.83</td>\n",
       "      <td>-1.0</td>\n",
       "      <td>...</td>\n",
       "      <td>8.89</td>\n",
       "      <td>1.98</td>\n",
       "      <td>40.99</td>\n",
       "      <td>8.15</td>\n",
       "      <td>-1.00</td>\n",
       "      <td>2.22</td>\n",
       "      <td>6.17</td>\n",
       "      <td>4.44</td>\n",
       "      <td>1.23</td>\n",
       "      <td>38.84</td>\n",
       "    </tr>\n",
       "    <tr>\n",
       "      <th>9644</th>\n",
       "      <td>42404.0</td>\n",
       "      <td>184.0</td>\n",
       "      <td>509.0</td>\n",
       "      <td>14107.0</td>\n",
       "      <td>14225.0</td>\n",
       "      <td>414.0</td>\n",
       "      <td>12983.994377</td>\n",
       "      <td>41.30</td>\n",
       "      <td>58.70</td>\n",
       "      <td>-1.0</td>\n",
       "      <td>...</td>\n",
       "      <td>60.87</td>\n",
       "      <td>0.00</td>\n",
       "      <td>8.70</td>\n",
       "      <td>7.07</td>\n",
       "      <td>34.24</td>\n",
       "      <td>25.54</td>\n",
       "      <td>19.02</td>\n",
       "      <td>5.43</td>\n",
       "      <td>4.89</td>\n",
       "      <td>6.15</td>\n",
       "    </tr>\n",
       "    <tr>\n",
       "      <th>9645</th>\n",
       "      <td>34566.0</td>\n",
       "      <td>77.0</td>\n",
       "      <td>68.0</td>\n",
       "      <td>14392.0</td>\n",
       "      <td>14212.0</td>\n",
       "      <td>64.0</td>\n",
       "      <td>14648.518115</td>\n",
       "      <td>54.55</td>\n",
       "      <td>45.45</td>\n",
       "      <td>-1.0</td>\n",
       "      <td>...</td>\n",
       "      <td>55.84</td>\n",
       "      <td>-1.00</td>\n",
       "      <td>-1.00</td>\n",
       "      <td>0.00</td>\n",
       "      <td>40.26</td>\n",
       "      <td>16.88</td>\n",
       "      <td>27.27</td>\n",
       "      <td>5.19</td>\n",
       "      <td>0.00</td>\n",
       "      <td>16.44</td>\n",
       "    </tr>\n",
       "  </tbody>\n",
       "</table>\n",
       "<p>9646 rows × 28 columns</p>\n",
       "</div>"
      ],
      "text/plain": [
       "      Median Household Income  CAASPP Reported Enrollment  Enrollment K-12  \\\n",
       "0                     64738.0                        58.0             88.0   \n",
       "1                     84051.0                       447.0            739.0   \n",
       "2                     48345.0                       192.0            366.0   \n",
       "3                     64089.0                       585.0            611.0   \n",
       "4                     57470.0                       184.0            371.0   \n",
       "...                       ...                         ...              ...   \n",
       "9641                  89403.0                        52.0             73.0   \n",
       "9642                 105659.0                        64.0            119.0   \n",
       "9643                  94173.0                       405.0            702.0   \n",
       "9644                  42404.0                       184.0            509.0   \n",
       "9645                  34566.0                        77.0             68.0   \n",
       "\n",
       "      Total Revenue per Pupil  Total Expenditures per Pupil  \\\n",
       "0                     12626.0                       14449.0   \n",
       "1                     13641.0                       11589.0   \n",
       "2                     14695.0                       16663.0   \n",
       "3                     13166.0                       12601.0   \n",
       "4                     14788.0                       15286.0   \n",
       "...                       ...                           ...   \n",
       "9641                   3811.0                        3425.0   \n",
       "9642                   3811.0                        3425.0   \n",
       "9643                  15219.0                       15708.0   \n",
       "9644                  14107.0                       14225.0   \n",
       "9645                  14392.0                       14212.0   \n",
       "\n",
       "      Free Meal Count K-12  Current Expense Per ADA   Male  Female  Military  \\\n",
       "0                     41.0             11384.420846  44.83   55.17      -1.0   \n",
       "1                    246.0             10758.663825  52.13   47.87       0.0   \n",
       "2                    187.0             12964.447700  44.79   55.21      12.5   \n",
       "3                    422.0             10744.324251  52.82   47.18      -1.0   \n",
       "4                    262.0             15524.553854  50.00   50.00      -1.0   \n",
       "...                    ...                      ...    ...     ...       ...   \n",
       "9641                  28.0             14260.002822  36.54   63.46      -1.0   \n",
       "9642                  35.0             14260.002822  56.25   43.75       0.0   \n",
       "9643                 373.0             12964.578388  46.17   53.83      -1.0   \n",
       "9644                 414.0             12983.994377  41.30   58.70      -1.0   \n",
       "9645                  64.0             14648.518115  54.55   45.45      -1.0   \n",
       "\n",
       "      ...  Hispanic  Pacific Islander  White  Two/More Races  < High School  \\\n",
       "0     ...     56.90             -1.00  31.03           -1.00          10.34   \n",
       "1     ...     29.31              0.00  24.83            1.57           3.36   \n",
       "2     ...     22.40             -1.00   5.21            3.12           0.00   \n",
       "3     ...     90.94              0.00   2.56            0.00          38.12   \n",
       "4     ...     90.22             -1.00   0.00            0.00          44.57   \n",
       "...   ...       ...               ...    ...             ...            ...   \n",
       "9641  ...     26.92             -1.00  42.31            0.00           0.00   \n",
       "9642  ...     37.50             -1.00  46.88           14.06          -1.00   \n",
       "9643  ...      8.89              1.98  40.99            8.15          -1.00   \n",
       "9644  ...     60.87              0.00   8.70            7.07          34.24   \n",
       "9645  ...     55.84             -1.00  -1.00            0.00          40.26   \n",
       "\n",
       "      High School Grad  Some College  College Grad  Graduate School  \\\n",
       "0                22.41         37.93         15.52             6.90   \n",
       "1                 9.84         19.02         30.87            27.07   \n",
       "2                 6.77          7.29         17.19             3.12   \n",
       "3                28.72         14.02          6.67             2.56   \n",
       "4                29.89         13.04          8.15             0.00   \n",
       "...                ...           ...           ...              ...   \n",
       "9641              0.00         21.15         34.62            23.08   \n",
       "9642              0.00         26.56         25.00            15.62   \n",
       "9643              2.22          6.17          4.44             1.23   \n",
       "9644             25.54         19.02          5.43             4.89   \n",
       "9645             16.88         27.27          5.19             0.00   \n",
       "\n",
       "      Percentage Standard Met and Above  \n",
       "0                                 44.64  \n",
       "1                                 65.60  \n",
       "2                                 81.18  \n",
       "3                                 30.38  \n",
       "4                                 29.83  \n",
       "...                                 ...  \n",
       "9641                              50.00  \n",
       "9642                              37.93  \n",
       "9643                              38.84  \n",
       "9644                               6.15  \n",
       "9645                              16.44  \n",
       "\n",
       "[9646 rows x 28 columns]"
      ]
     },
     "execution_count": 48,
     "metadata": {},
     "output_type": "execute_result"
    }
   ],
   "source": [
    "df = table.copy()\n",
    "df"
   ]
  },
  {
   "cell_type": "markdown",
   "metadata": {},
   "source": [
    "## Ordinary Least Square Method (OLS)\n",
    "1. Statsmodel"
   ]
  },
  {
   "cell_type": "code",
   "execution_count": 49,
   "metadata": {},
   "outputs": [],
   "source": [
    "# Create test and train datasets\n",
    "# Include all columns from data in the explanatory variables X\n",
    "X = df.drop(['Percentage Standard Met and Above', 'Male', 'Non Military',\n",
    "       'Non Homeless', 'Total Expenditures per Pupil', 'Not Disadvantaged'], axis=1)\n",
    "\n",
    "# Create constants for X, so the model knows its bounds\n",
    "X = sm.add_constant(X)\n",
    "y = df['Percentage Standard Met and Above']"
   ]
  },
  {
   "cell_type": "code",
   "execution_count": 50,
   "metadata": {},
   "outputs": [],
   "source": [
    "# Split the data\n",
    "X_train, X_test, y_train, y_test = train_test_split(X, y, test_size = 0.25, random_state = 123)\n"
   ]
  },
  {
   "cell_type": "code",
   "execution_count": 51,
   "metadata": {},
   "outputs": [
    {
     "name": "stdout",
     "output_type": "stream",
     "text": [
      "X_train:  (7234, 23) y_train:  (7234,) X_test : (2412, 23) y_test:  (2412,)\n"
     ]
    }
   ],
   "source": [
    "# Check the shape of the X train, y_train, X_test and y_test to make sure the proportions are right. \n",
    "print('X_train: ', X_train.shape, 'y_train: ', y_train.shape, 'X_test :' ,X_test.shape, 'y_test: ', y_test.shape)\n"
   ]
  },
  {
   "cell_type": "code",
   "execution_count": 52,
   "metadata": {},
   "outputs": [],
   "source": [
    "# We can use almost identical code to create the third model, because it is the same algorithm, just different inputs\n",
    "# Create the model\n",
    "rModel2 = sm.OLS(y_train, X_train)"
   ]
  },
  {
   "cell_type": "code",
   "execution_count": 53,
   "metadata": {},
   "outputs": [
    {
     "data": {
      "text/html": [
       "<table class=\"simpletable\">\n",
       "<caption>OLS Regression Results</caption>\n",
       "<tr>\n",
       "  <th>Dep. Variable:</th>    <td>Percentage Standard Met and Above</td> <th>  R-squared:         </th> <td>   0.708</td> \n",
       "</tr>\n",
       "<tr>\n",
       "  <th>Model:</th>                           <td>OLS</td>                <th>  Adj. R-squared:    </th> <td>   0.707</td> \n",
       "</tr>\n",
       "<tr>\n",
       "  <th>Method:</th>                     <td>Least Squares</td>           <th>  F-statistic:       </th> <td>   793.6</td> \n",
       "</tr>\n",
       "<tr>\n",
       "  <th>Date:</th>                     <td>Sun, 02 May 2021</td>          <th>  Prob (F-statistic):</th>  <td>  0.00</td>  \n",
       "</tr>\n",
       "<tr>\n",
       "  <th>Time:</th>                         <td>18:13:06</td>              <th>  Log-Likelihood:    </th> <td> -27670.</td> \n",
       "</tr>\n",
       "<tr>\n",
       "  <th>No. Observations:</th>              <td>  7234</td>               <th>  AIC:               </th> <td>5.539e+04</td>\n",
       "</tr>\n",
       "<tr>\n",
       "  <th>Df Residuals:</th>                  <td>  7211</td>               <th>  BIC:               </th> <td>5.554e+04</td>\n",
       "</tr>\n",
       "<tr>\n",
       "  <th>Df Model:</th>                      <td>    22</td>               <th>                     </th>     <td> </td>    \n",
       "</tr>\n",
       "<tr>\n",
       "  <th>Covariance Type:</th>              <td>nonrobust</td>             <th>                     </th>     <td> </td>    \n",
       "</tr>\n",
       "</table>\n",
       "<table class=\"simpletable\">\n",
       "<tr>\n",
       "               <td></td>                 <th>coef</th>     <th>std err</th>      <th>t</th>      <th>P>|t|</th>  <th>[0.025</th>    <th>0.975]</th>  \n",
       "</tr>\n",
       "<tr>\n",
       "  <th>const</th>                      <td>   -4.4197</td> <td>    2.425</td> <td>   -1.822</td> <td> 0.068</td> <td>   -9.174</td> <td>    0.334</td>\n",
       "</tr>\n",
       "<tr>\n",
       "  <th>Median Household Income</th>    <td> -1.78e-05</td> <td> 7.94e-06</td> <td>   -2.243</td> <td> 0.025</td> <td>-3.34e-05</td> <td>-2.24e-06</td>\n",
       "</tr>\n",
       "<tr>\n",
       "  <th>CAASPP Reported Enrollment</th> <td>   -0.0052</td> <td>    0.001</td> <td>   -7.880</td> <td> 0.000</td> <td>   -0.007</td> <td>   -0.004</td>\n",
       "</tr>\n",
       "<tr>\n",
       "  <th>Enrollment K-12</th>            <td>    0.0050</td> <td>    0.001</td> <td>    8.900</td> <td> 0.000</td> <td>    0.004</td> <td>    0.006</td>\n",
       "</tr>\n",
       "<tr>\n",
       "  <th>Total Revenue per Pupil</th>    <td>    0.0005</td> <td> 4.23e-05</td> <td>   11.448</td> <td> 0.000</td> <td>    0.000</td> <td>    0.001</td>\n",
       "</tr>\n",
       "<tr>\n",
       "  <th>Free Meal Count K-12</th>       <td>    0.0029</td> <td>    0.001</td> <td>    2.812</td> <td> 0.005</td> <td>    0.001</td> <td>    0.005</td>\n",
       "</tr>\n",
       "<tr>\n",
       "  <th>Current Expense Per ADA</th>    <td>-3.787e-05</td> <td> 3.12e-05</td> <td>   -1.213</td> <td> 0.225</td> <td> -9.9e-05</td> <td> 2.33e-05</td>\n",
       "</tr>\n",
       "<tr>\n",
       "  <th>Female</th>                     <td>    0.4983</td> <td>    0.018</td> <td>   27.604</td> <td> 0.000</td> <td>    0.463</td> <td>    0.534</td>\n",
       "</tr>\n",
       "<tr>\n",
       "  <th>Military</th>                   <td>    0.1279</td> <td>    0.026</td> <td>    4.950</td> <td> 0.000</td> <td>    0.077</td> <td>    0.179</td>\n",
       "</tr>\n",
       "<tr>\n",
       "  <th>Homeless</th>                   <td>   -0.0204</td> <td>    0.021</td> <td>   -0.997</td> <td> 0.319</td> <td>   -0.061</td> <td>    0.020</td>\n",
       "</tr>\n",
       "<tr>\n",
       "  <th>Disadvantaged</th>              <td>   -0.1984</td> <td>    0.014</td> <td>  -14.245</td> <td> 0.000</td> <td>   -0.226</td> <td>   -0.171</td>\n",
       "</tr>\n",
       "<tr>\n",
       "  <th>Black</th>                      <td>   -0.0096</td> <td>    0.027</td> <td>   -0.355</td> <td> 0.723</td> <td>   -0.063</td> <td>    0.043</td>\n",
       "</tr>\n",
       "<tr>\n",
       "  <th>Native American</th>            <td>   -0.1007</td> <td>    0.043</td> <td>   -2.338</td> <td> 0.019</td> <td>   -0.185</td> <td>   -0.016</td>\n",
       "</tr>\n",
       "<tr>\n",
       "  <th>Asian</th>                      <td>    0.5013</td> <td>    0.026</td> <td>   19.166</td> <td> 0.000</td> <td>    0.450</td> <td>    0.553</td>\n",
       "</tr>\n",
       "<tr>\n",
       "  <th>Hispanic</th>                   <td>    0.3002</td> <td>    0.024</td> <td>   12.712</td> <td> 0.000</td> <td>    0.254</td> <td>    0.347</td>\n",
       "</tr>\n",
       "<tr>\n",
       "  <th>Pacific Islander</th>           <td>   -0.4551</td> <td>    0.127</td> <td>   -3.577</td> <td> 0.000</td> <td>   -0.704</td> <td>   -0.206</td>\n",
       "</tr>\n",
       "<tr>\n",
       "  <th>White</th>                      <td>    0.2477</td> <td>    0.024</td> <td>   10.445</td> <td> 0.000</td> <td>    0.201</td> <td>    0.294</td>\n",
       "</tr>\n",
       "<tr>\n",
       "  <th>Two/More Races</th>             <td>    0.2166</td> <td>    0.044</td> <td>    4.976</td> <td> 0.000</td> <td>    0.131</td> <td>    0.302</td>\n",
       "</tr>\n",
       "<tr>\n",
       "  <th>< High School</th>              <td>   -0.1614</td> <td>    0.016</td> <td>  -10.338</td> <td> 0.000</td> <td>   -0.192</td> <td>   -0.131</td>\n",
       "</tr>\n",
       "<tr>\n",
       "  <th>High School Grad</th>           <td>   -0.0545</td> <td>    0.017</td> <td>   -3.276</td> <td> 0.001</td> <td>   -0.087</td> <td>   -0.022</td>\n",
       "</tr>\n",
       "<tr>\n",
       "  <th>Some College</th>               <td>    0.0206</td> <td>    0.016</td> <td>    1.292</td> <td> 0.196</td> <td>   -0.011</td> <td>    0.052</td>\n",
       "</tr>\n",
       "<tr>\n",
       "  <th>College Grad</th>               <td>    0.3645</td> <td>    0.019</td> <td>   19.673</td> <td> 0.000</td> <td>    0.328</td> <td>    0.401</td>\n",
       "</tr>\n",
       "<tr>\n",
       "  <th>Graduate School</th>            <td>    0.2563</td> <td>    0.017</td> <td>   14.840</td> <td> 0.000</td> <td>    0.222</td> <td>    0.290</td>\n",
       "</tr>\n",
       "</table>\n",
       "<table class=\"simpletable\">\n",
       "<tr>\n",
       "  <th>Omnibus:</th>       <td>311.563</td> <th>  Durbin-Watson:     </th> <td>   2.006</td> \n",
       "</tr>\n",
       "<tr>\n",
       "  <th>Prob(Omnibus):</th> <td> 0.000</td>  <th>  Jarque-Bera (JB):  </th> <td> 723.239</td> \n",
       "</tr>\n",
       "<tr>\n",
       "  <th>Skew:</th>          <td> 0.260</td>  <th>  Prob(JB):          </th> <td>8.93e-158</td>\n",
       "</tr>\n",
       "<tr>\n",
       "  <th>Kurtosis:</th>      <td> 4.459</td>  <th>  Cond. No.          </th> <td>1.30e+06</td> \n",
       "</tr>\n",
       "</table><br/><br/>Notes:<br/>[1] Standard Errors assume that the covariance matrix of the errors is correctly specified.<br/>[2] The condition number is large, 1.3e+06. This might indicate that there are<br/>strong multicollinearity or other numerical problems."
      ],
      "text/plain": [
       "<class 'statsmodels.iolib.summary.Summary'>\n",
       "\"\"\"\n",
       "                                    OLS Regression Results                                   \n",
       "=============================================================================================\n",
       "Dep. Variable:     Percentage Standard Met and Above   R-squared:                       0.708\n",
       "Model:                                           OLS   Adj. R-squared:                  0.707\n",
       "Method:                                Least Squares   F-statistic:                     793.6\n",
       "Date:                               Sun, 02 May 2021   Prob (F-statistic):               0.00\n",
       "Time:                                       18:13:06   Log-Likelihood:                -27670.\n",
       "No. Observations:                               7234   AIC:                         5.539e+04\n",
       "Df Residuals:                                   7211   BIC:                         5.554e+04\n",
       "Df Model:                                         22                                         \n",
       "Covariance Type:                           nonrobust                                         \n",
       "==============================================================================================\n",
       "                                 coef    std err          t      P>|t|      [0.025      0.975]\n",
       "----------------------------------------------------------------------------------------------\n",
       "const                         -4.4197      2.425     -1.822      0.068      -9.174       0.334\n",
       "Median Household Income     -1.78e-05   7.94e-06     -2.243      0.025   -3.34e-05   -2.24e-06\n",
       "CAASPP Reported Enrollment    -0.0052      0.001     -7.880      0.000      -0.007      -0.004\n",
       "Enrollment K-12                0.0050      0.001      8.900      0.000       0.004       0.006\n",
       "Total Revenue per Pupil        0.0005   4.23e-05     11.448      0.000       0.000       0.001\n",
       "Free Meal Count K-12           0.0029      0.001      2.812      0.005       0.001       0.005\n",
       "Current Expense Per ADA    -3.787e-05   3.12e-05     -1.213      0.225    -9.9e-05    2.33e-05\n",
       "Female                         0.4983      0.018     27.604      0.000       0.463       0.534\n",
       "Military                       0.1279      0.026      4.950      0.000       0.077       0.179\n",
       "Homeless                      -0.0204      0.021     -0.997      0.319      -0.061       0.020\n",
       "Disadvantaged                 -0.1984      0.014    -14.245      0.000      -0.226      -0.171\n",
       "Black                         -0.0096      0.027     -0.355      0.723      -0.063       0.043\n",
       "Native American               -0.1007      0.043     -2.338      0.019      -0.185      -0.016\n",
       "Asian                          0.5013      0.026     19.166      0.000       0.450       0.553\n",
       "Hispanic                       0.3002      0.024     12.712      0.000       0.254       0.347\n",
       "Pacific Islander              -0.4551      0.127     -3.577      0.000      -0.704      -0.206\n",
       "White                          0.2477      0.024     10.445      0.000       0.201       0.294\n",
       "Two/More Races                 0.2166      0.044      4.976      0.000       0.131       0.302\n",
       "< High School                 -0.1614      0.016    -10.338      0.000      -0.192      -0.131\n",
       "High School Grad              -0.0545      0.017     -3.276      0.001      -0.087      -0.022\n",
       "Some College                   0.0206      0.016      1.292      0.196      -0.011       0.052\n",
       "College Grad                   0.3645      0.019     19.673      0.000       0.328       0.401\n",
       "Graduate School                0.2563      0.017     14.840      0.000       0.222       0.290\n",
       "==============================================================================\n",
       "Omnibus:                      311.563   Durbin-Watson:                   2.006\n",
       "Prob(Omnibus):                  0.000   Jarque-Bera (JB):              723.239\n",
       "Skew:                           0.260   Prob(JB):                    8.93e-158\n",
       "Kurtosis:                       4.459   Cond. No.                     1.30e+06\n",
       "==============================================================================\n",
       "\n",
       "Notes:\n",
       "[1] Standard Errors assume that the covariance matrix of the errors is correctly specified.\n",
       "[2] The condition number is large, 1.3e+06. This might indicate that there are\n",
       "strong multicollinearity or other numerical problems.\n",
       "\"\"\""
      ]
     },
     "execution_count": 53,
     "metadata": {},
     "output_type": "execute_result"
    }
   ],
   "source": [
    "# Fit the model\n",
    "rModel2_results = rModel2.fit()\n",
    "\n",
    "rModel2_results.summary()"
   ]
  },
  {
   "cell_type": "code",
   "execution_count": 54,
   "metadata": {},
   "outputs": [],
   "source": [
    "# Make predictions of the dependent variable y. Use predict(), and plug in X_test as the parameter\n",
    "y_pred = rModel2_results.predict(X_test)"
   ]
  },
  {
   "cell_type": "code",
   "execution_count": 55,
   "metadata": {},
   "outputs": [
    {
     "data": {
      "text/plain": [
       "Text(0, 0.5, 'Predicted values')"
      ]
     },
     "execution_count": 55,
     "metadata": {},
     "output_type": "execute_result"
    },
    {
     "data": {
      "image/png": "[encoded data removed]",
      "text/plain": [
       "<Figure size 432x288 with 1 Axes>"
      ]
     },
     "metadata": {},
     "output_type": "display_data"
    }
   ],
   "source": [
    "# Plot the predictions\n",
    "# Build a scatterplot\n",
    "plt.scatter(y_test, y_pred)\n",
    "\n",
    "# Add a line for perfect correlation. Can you see what this line is doing? \n",
    "plt.plot([x for x in range(0,100)],[x for x in range(0,100)], color='red')\n",
    "\n",
    "# Label \n",
    "plt.title(\"Model 4 predictions vs. the actual values\")\n",
    "plt.xlabel(\"Actual values\")\n",
    "plt.ylabel(\"Predicted values\")"
   ]
  },
  {
   "cell_type": "code",
   "execution_count": 56,
   "metadata": {},
   "outputs": [
    {
     "data": {
      "text/plain": [
       "207     36.739087\n",
       "4397    36.843055\n",
       "9309    36.426618\n",
       "5207    74.909590\n",
       "6344    49.098881\n",
       "          ...    \n",
       "5799    41.183752\n",
       "429     26.657422\n",
       "4641    31.003212\n",
       "2874    72.828635\n",
       "5442    48.388344\n",
       "Length: 2412, dtype: float64"
      ]
     },
     "execution_count": 56,
     "metadata": {},
     "output_type": "execute_result"
    }
   ],
   "source": [
    "y_pred"
   ]
  },
  {
   "cell_type": "markdown",
   "metadata": {},
   "source": [
    "## Model Performance\n",
    "- MAE\n",
    "- MSE\n",
    "- RMSE\n",
    "- R_squared"
   ]
  },
  {
   "cell_type": "code",
   "execution_count": 57,
   "metadata": {},
   "outputs": [
    {
     "data": {
      "text/plain": [
       "8.725467831213454"
      ]
     },
     "execution_count": 57,
     "metadata": {},
     "output_type": "execute_result"
    }
   ],
   "source": [
    "# MAE\n",
    "median_mae = mean_absolute_error(y_test, y_pred)\n",
    "median_mae"
   ]
  },
  {
   "cell_type": "code",
   "execution_count": 58,
   "metadata": {},
   "outputs": [
    {
     "data": {
      "text/plain": [
       "132.79662526918833"
      ]
     },
     "execution_count": 58,
     "metadata": {},
     "output_type": "execute_result"
    }
   ],
   "source": [
    "# MSE - train, test\n",
    "median_mse = mean_squared_error(y_test, y_pred)\n",
    "median_mse\n"
   ]
  },
  {
   "cell_type": "code",
   "execution_count": 59,
   "metadata": {},
   "outputs": [
    {
     "data": {
      "text/plain": [
       "11.523741808509437"
      ]
     },
     "execution_count": 59,
     "metadata": {},
     "output_type": "execute_result"
    }
   ],
   "source": [
    "median_rmse = mean_squared_error(y_test, y_pred, squared=False)\n",
    "median_rmse"
   ]
  },
  {
   "cell_type": "code",
   "execution_count": 60,
   "metadata": {},
   "outputs": [
    {
     "data": {
      "text/plain": [
       "0.7001828202688097"
      ]
     },
     "execution_count": 60,
     "metadata": {},
     "output_type": "execute_result"
    }
   ],
   "source": [
    "# R_squared\n",
    "median_r2 = r2_score(y_test, y_pred)\n",
    "median_r2"
   ]
  },
  {
   "cell_type": "code",
   "execution_count": 61,
   "metadata": {},
   "outputs": [
    {
     "data": {
      "text/plain": [
       "Text(0, 0.5, 'Number of schools')"
      ]
     },
     "execution_count": 61,
     "metadata": {},
     "output_type": "execute_result"
    },
    {
     "data": {
      "image/png": "[encoded data removed]",
      "text/plain": [
       "<Figure size 432x288 with 1 Axes>"
      ]
     },
     "metadata": {},
     "output_type": "display_data"
    }
   ],
   "source": [
    "plt.hist(y_pred)\n",
    "\n",
    "plt.title(\"Prediction of Percentage Standard Met and Above\")\n",
    "plt.xlabel(\"% Pass\")\n",
    "plt.ylabel(\"Number of schools\")"
   ]
  },
  {
   "cell_type": "markdown",
   "metadata": {},
   "source": [
    "# Feature Selection\n",
    "### Refining Linear Model\n",
    "- sklearn, SelectKBest"
   ]
  },
  {
   "cell_type": "markdown",
   "metadata": {},
   "source": [
    "### Select features using SelectKBest function"
   ]
  },
  {
   "cell_type": "code",
   "execution_count": 62,
   "metadata": {},
   "outputs": [],
   "source": [
    "# example of correlation feature selection for numerical data\n",
    "from sklearn.datasets import make_regression\n",
    "from sklearn.model_selection import train_test_split\n",
    "from sklearn.feature_selection import SelectKBest\n",
    "from sklearn.feature_selection import f_regression\n",
    "from matplotlib import pyplot\n",
    " \n",
    "# feature selection\n",
    "def select_features(X_train, y_train, X_test):\n",
    "    # configure to select all features\n",
    "    fs = SelectKBest(score_func=f_regression, k='all')\n",
    "    # learn relationship from training data\n",
    "    fs.fit(X_train, y_train)\n",
    "    # transform train input data\n",
    "    X_train_fs = fs.transform(X_train)\n",
    "    # transform test input data\n",
    "    X_test_fs = fs.transform(X_test)\n",
    "    return X_train_fs, X_test_fs, fs\n"
   ]
  },
  {
   "cell_type": "code",
   "execution_count": 63,
   "metadata": {},
   "outputs": [],
   "source": [
    "# Create test and train datasets\n",
    "# exclude the columns below as the explanatory variables X \n",
    "X = language_df.drop(['Percentage Standard Met and Above', 'Male', 'Male-Dummy','Non Military',\n",
    "       'Non Military-Dummy', 'Non Homeless', 'Total Expenditures per Pupil',\n",
    "       'Non Homeless-Dummy', 'Not Disadvantaged', 'Not Disadvantaged-Dummy'], axis=1)\n",
    "\n",
    "y = language_df['Percentage Standard Met and Above']"
   ]
  },
  {
   "cell_type": "code",
   "execution_count": 64,
   "metadata": {},
   "outputs": [
    {
     "name": "stdout",
     "output_type": "stream",
     "text": [
      "Feature 0: 2852.387702\n",
      "Feature 1: 287.024966\n",
      "Feature 2: nan\n",
      "Feature 3: 595.059137\n",
      "Feature 4: 99.953183\n",
      "Feature 5: 0.074157\n",
      "Feature 6: 157.629580\n",
      "Feature 7: 64.621428\n",
      "Feature 8: 734.604498\n",
      "Feature 9: 265.079053\n",
      "Feature 10: 89.844446\n",
      "Feature 11: 307.194365\n",
      "Feature 12: 320.030793\n",
      "Feature 13: 284.854807\n",
      "Feature 14: 7527.551048\n",
      "Feature 15: 62.090308\n",
      "Feature 16: 522.288948\n",
      "Feature 17: 4.573524\n",
      "Feature 18: 61.710640\n",
      "Feature 19: 5.917254\n",
      "Feature 20: 1911.930615\n",
      "Feature 21: 1580.395711\n",
      "Feature 22: 2427.337081\n",
      "Feature 23: 25.455862\n",
      "Feature 24: 2.362709\n",
      "Feature 25: 0.179406\n",
      "Feature 26: 1662.871821\n",
      "Feature 27: 635.550658\n",
      "Feature 28: 1778.597700\n",
      "Feature 29: 1381.762728\n",
      "Feature 30: 2792.614968\n",
      "Feature 31: 763.331773\n",
      "Feature 32: 3068.735006\n",
      "Feature 33: 66.202592\n",
      "Feature 34: 2.729598\n",
      "Feature 35: 107.213308\n",
      "Feature 36: 6427.712911\n",
      "Feature 37: 842.090250\n",
      "Feature 38: 6742.988581\n",
      "Feature 39: 1530.608789\n"
     ]
    },
    {
     "data": {
      "image/png": "[encoded data removed]",
      "text/plain": [
       "<Figure size 432x288 with 1 Axes>"
      ]
     },
     "metadata": {},
     "output_type": "display_data"
    }
   ],
   "source": [
    "# Split data into test and training\n",
    "X_train, X_test, y_train, y_test = train_test_split(X, y, test_size = 0.25, random_state = 123)\n",
    "\n",
    "# feature selection\n",
    "X_train_fs, X_test_fs, fs = select_features(X_train, y_train, X_test)\n",
    "# what are scores for the features\n",
    "for i in range(len(fs.scores_)):\n",
    "    print('Feature %d: %f' % (i, fs.scores_[i]))\n",
    "# plot the scores\n",
    "pyplot.bar([i for i in range(len(fs.scores_))], fs.scores_)\n",
    "pyplot.show()"
   ]
  },
  {
   "cell_type": "code",
   "execution_count": 65,
   "metadata": {},
   "outputs": [
    {
     "name": "stdout",
     "output_type": "stream",
     "text": [
      "MAE: 8.558\n"
     ]
    }
   ],
   "source": [
    "# Create linear model\n",
    "rModel3 = linear_model.LinearRegression(normalize=True) # normalize=True parameter enables the handling of different scales\n",
    "\n",
    "rModel3.fit(X_train, y_train)\n",
    "# evaluate the model\n",
    "yhat = rModel3.predict(X_test)\n",
    "# evaluate predictions\n",
    "mae = mean_absolute_error(y_test, yhat)\n",
    "print('MAE: %.3f' % mae)"
   ]
  },
  {
   "cell_type": "markdown",
   "metadata": {},
   "source": [
    "### Select features using SelectKBest pipeline\n",
    "- Refine number of features"
   ]
  },
  {
   "cell_type": "code",
   "execution_count": 66,
   "metadata": {},
   "outputs": [],
   "source": [
    "# Add SelectKBest as a step in the pipeline between `StandardScaler()` and `LinearRegression()`\n",
    "#Don't forget to tell it to use `f_regression` as its score function\n",
    "pipe = make_pipeline(\n",
    "    StandardScaler(),\n",
    "    SelectKBest(f_regression, k='all'),\n",
    "    LinearRegression()\n",
    ")"
   ]
  },
  {
   "cell_type": "code",
   "execution_count": 67,
   "metadata": {},
   "outputs": [
    {
     "data": {
      "text/plain": [
       "Pipeline(steps=[('standardscaler', StandardScaler()),\n",
       "                ('selectkbest',\n",
       "                 SelectKBest(k='all',\n",
       "                             score_func=<function f_regression at 0x7fc60c38c320>)),\n",
       "                ('linearregression', LinearRegression())])"
      ]
     },
     "execution_count": 67,
     "metadata": {},
     "output_type": "execute_result"
    }
   ],
   "source": [
    "# FFit the pipeline\n",
    "pipe.fit(X_train, y_train)"
   ]
  },
  {
   "cell_type": "code",
   "execution_count": 68,
   "metadata": {},
   "outputs": [],
   "source": [
    "# Assess performance\n",
    "y_tr_pred = pipe.predict(X_train)\n",
    "y_te_pred = pipe.predict(X_test)"
   ]
  },
  {
   "cell_type": "code",
   "execution_count": 69,
   "metadata": {},
   "outputs": [
    {
     "data": {
      "text/plain": [
       "(0.7165947529314785, 0.7114898499806217)"
      ]
     },
     "execution_count": 69,
     "metadata": {},
     "output_type": "execute_result"
    }
   ],
   "source": [
    "r2_score(y_train, y_tr_pred), r2_score(y_test, y_te_pred)"
   ]
  },
  {
   "cell_type": "code",
   "execution_count": 70,
   "metadata": {},
   "outputs": [
    {
     "data": {
      "text/plain": [
       "(8.309459897627246, 8.557535867937661)"
      ]
     },
     "execution_count": 70,
     "metadata": {},
     "output_type": "execute_result"
    }
   ],
   "source": [
    "mean_absolute_error(y_train, y_tr_pred), mean_absolute_error(y_test, y_te_pred)"
   ]
  },
  {
   "cell_type": "markdown",
   "metadata": {},
   "source": [
    "# Cross Validation \n",
    "### Assess performance"
   ]
  },
  {
   "cell_type": "code",
   "execution_count": 71,
   "metadata": {},
   "outputs": [],
   "source": [
    "cv_results = cross_validate(pipe, X_train, y_train, cv=10)"
   ]
  },
  {
   "cell_type": "code",
   "execution_count": 72,
   "metadata": {},
   "outputs": [
    {
     "data": {
      "text/plain": [
       "array([0.72012598, 0.66461887, 0.73137144, 0.70606304, 0.69626078,\n",
       "       0.73372446, 0.71825631, 0.71839117, 0.71208223, 0.71368179])"
      ]
     },
     "execution_count": 72,
     "metadata": {},
     "output_type": "execute_result"
    }
   ],
   "source": [
    "cv_scores = cv_results['test_score']\n",
    "cv_scores"
   ]
  },
  {
   "cell_type": "code",
   "execution_count": 73,
   "metadata": {},
   "outputs": [
    {
     "data": {
      "text/plain": [
       "(0.7114576082880368, 0.018764487479232643)"
      ]
     },
     "execution_count": 73,
     "metadata": {},
     "output_type": "execute_result"
    }
   ],
   "source": [
    "np.mean(cv_scores), np.std(cv_scores)"
   ]
  },
  {
   "cell_type": "code",
   "execution_count": 74,
   "metadata": {},
   "outputs": [
    {
     "data": {
      "text/plain": [
       "array([0.67, 0.75])"
      ]
     },
     "execution_count": 74,
     "metadata": {},
     "output_type": "execute_result"
    }
   ],
   "source": [
    "np.round((np.mean(cv_scores) - 2 * np.std(cv_scores), np.mean(cv_scores) + 2 * np.std(cv_scores)), 2)"
   ]
  },
  {
   "cell_type": "markdown",
   "metadata": {},
   "source": [
    "# GridSearchCV\n",
    "### Hyperparameter search"
   ]
  },
  {
   "cell_type": "code",
   "execution_count": 75,
   "metadata": {},
   "outputs": [
    {
     "data": {
      "text/plain": [
       "dict_keys(['memory', 'steps', 'verbose', 'standardscaler', 'selectkbest', 'linearregression', 'standardscaler__copy', 'standardscaler__with_mean', 'standardscaler__with_std', 'selectkbest__k', 'selectkbest__score_func', 'linearregression__copy_X', 'linearregression__fit_intercept', 'linearregression__n_jobs', 'linearregression__normalize'])"
      ]
     },
     "execution_count": 75,
     "metadata": {},
     "output_type": "execute_result"
    }
   ],
   "source": [
    "#Call `pipe`'s `get_params()` method to get a dict of available parameters and print their names\n",
    "#using dict's `keys()` method\n",
    "pipe.get_params().keys()"
   ]
  },
  {
   "cell_type": "code",
   "execution_count": 120,
   "metadata": {},
   "outputs": [],
   "source": [
    "k = [k+1 for k in range(len(X_train.columns))]\n",
    "grid_params = {'selectkbest__k': k}"
   ]
  },
  {
   "cell_type": "code",
   "execution_count": 121,
   "metadata": {},
   "outputs": [],
   "source": [
    "lr_grid_cv = GridSearchCV(pipe, param_grid=grid_params, cv=10, n_jobs=-1)"
   ]
  },
  {
   "cell_type": "code",
   "execution_count": 122,
   "metadata": {},
   "outputs": [
    {
     "data": {
      "text/plain": [
       "GridSearchCV(cv=10,\n",
       "             estimator=Pipeline(steps=[('standardscaler', StandardScaler()),\n",
       "                                       ('selectkbest',\n",
       "                                        SelectKBest(k='all',\n",
       "                                                    score_func=<function f_regression at 0x7fc60c38c320>)),\n",
       "                                       ('linearregression',\n",
       "                                        LinearRegression())]),\n",
       "             n_jobs=-1,\n",
       "             param_grid={'selectkbest__k': [1, 2, 3, 4, 5, 6, 7, 8, 9, 10, 11,\n",
       "                                            12, 13, 14, 15, 16, 17, 18, 19, 20,\n",
       "                                            21, 22, 23, 24, 25, 26, 27, 28, 29,\n",
       "                                            30, ...]})"
      ]
     },
     "execution_count": 122,
     "metadata": {},
     "output_type": "execute_result"
    }
   ],
   "source": [
    "lr_grid_cv.fit(X_train, y_train)"
   ]
  },
  {
   "cell_type": "code",
   "execution_count": 123,
   "metadata": {},
   "outputs": [],
   "source": [
    "score_mean = lr_grid_cv.cv_results_['mean_test_score']\n",
    "score_std = lr_grid_cv.cv_results_['std_test_score']\n",
    "cv_k = [k for k in lr_grid_cv.cv_results_['param_selectkbest__k']]"
   ]
  },
  {
   "cell_type": "code",
   "execution_count": 124,
   "metadata": {},
   "outputs": [
    {
     "data": {
      "text/plain": [
       "{'selectkbest__k': 40}"
      ]
     },
     "execution_count": 124,
     "metadata": {},
     "output_type": "execute_result"
    }
   ],
   "source": [
    "#Print the `best_params_` attribute of `lr_grid_cv`\n",
    "lr_grid_cv.best_params_"
   ]
  },
  {
   "cell_type": "code",
   "execution_count": 125,
   "metadata": {},
   "outputs": [
    {
     "data": {
      "image/png": "[encoded data removed]",
      "text/plain": [
       "<Figure size 720x360 with 1 Axes>"
      ]
     },
     "metadata": {},
     "output_type": "display_data"
    }
   ],
   "source": [
    "#Assign the value of k from the above dict of `best_params_` and assign it to `best_k`\n",
    "best_k = lr_grid_cv.best_params_['selectkbest__k']\n",
    "plt.subplots(figsize=(10, 5))\n",
    "plt.errorbar(cv_k, score_mean, yerr=score_std)\n",
    "plt.axvline(x=best_k, c='r', ls='--', alpha=.5)\n",
    "plt.xlabel('k')\n",
    "plt.ylabel('CV score (r-squared)')\n",
    "plt.title('Pipeline mean CV score (error bars +/- 1sd)');"
   ]
  },
  {
   "cell_type": "code",
   "execution_count": 126,
   "metadata": {},
   "outputs": [],
   "source": [
    "selected = lr_grid_cv.best_estimator_.named_steps.selectkbest.get_support()"
   ]
  },
  {
   "cell_type": "code",
   "execution_count": 127,
   "metadata": {},
   "outputs": [
    {
     "data": {
      "text/plain": [
       "CAASPP Reported Enrollment-Dummy    1.802190e+13\n",
       "Hispanic                            8.476629e+00\n",
       "Asian                               6.473229e+00\n",
       "White                               6.209292e+00\n",
       "College Grad                        3.701451e+00\n",
       "Female                              3.640840e+00\n",
       "Graduate School                     3.233616e+00\n",
       "Enrollment K-12                     2.609302e+00\n",
       "Total Revenue per Pupil             1.513352e+00\n",
       "Two/More Races                      1.131030e+00\n",
       "Asian-Dummy                         1.036964e+00\n",
       "Enrollment K-12-Dummy               1.024970e+00\n",
       "College Grad-Dummy                  9.415084e-01\n",
       "Free Meal Count K-12                8.470396e-01\n",
       "Graduate School-Dummy               7.625887e-01\n",
       "Military-Dummy                      4.705125e-01\n",
       "Military                            4.386985e-01\n",
       "Some College                        2.599035e-01\n",
       "Pacific Islander-Dummy              1.934884e-01\n",
       "High School Grad-Dummy              4.837209e-02\n",
       "Homeless                           -1.693105e-02\n",
       "Black                              -7.755161e-02\n",
       "Some College-Dummy                 -9.959232e-02\n",
       "Disadvantaged-Dummy                -1.035585e-01\n",
       "Black-Dummy                        -1.330764e-01\n",
       "Current Expense Per ADA            -1.758606e-01\n",
       "Native American                    -2.253051e-01\n",
       "Homeless-Dummy                     -2.535983e-01\n",
       "< High School-Dummy                -3.129719e-01\n",
       "Two/More Races-Dummy               -4.166782e-01\n",
       "Female-Dummy                       -4.445898e-01\n",
       "Hispanic-Dummy                     -4.967485e-01\n",
       "Median Household Income            -5.137205e-01\n",
       "Native American-Dummy              -5.171438e-01\n",
       "Pacific Islander                   -6.819978e-01\n",
       "High School Grad                   -6.890652e-01\n",
       "White-Dummy                        -1.311291e+00\n",
       "CAASPP Reported Enrollment         -1.374148e+00\n",
       "< High School                      -2.371240e+00\n",
       "Disadvantaged                      -6.078775e+00\n",
       "dtype: float64"
      ]
     },
     "execution_count": 127,
     "metadata": {},
     "output_type": "execute_result"
    }
   ],
   "source": [
    "#sorting the values in descending order\n",
    "coefs = lr_grid_cv.best_estimator_.named_steps.linearregression.coef_\n",
    "features = X_train.columns[selected]\n",
    "pd.Series(coefs, index=features).sort_values(ascending=False)"
   ]
  },
  {
   "cell_type": "code",
   "execution_count": 128,
   "metadata": {},
   "outputs": [
    {
     "data": {
      "text/html": [
       "<div>\n",
       "<style scoped>\n",
       "    .dataframe tbody tr th:only-of-type {\n",
       "        vertical-align: middle;\n",
       "    }\n",
       "\n",
       "    .dataframe tbody tr th {\n",
       "        vertical-align: top;\n",
       "    }\n",
       "\n",
       "    .dataframe thead th {\n",
       "        text-align: right;\n",
       "    }\n",
       "</style>\n",
       "<table border=\"1\" class=\"dataframe\">\n",
       "  <thead>\n",
       "    <tr style=\"text-align: right;\">\n",
       "      <th></th>\n",
       "      <th>Median Household Income</th>\n",
       "      <th>CAASPP Reported Enrollment</th>\n",
       "      <th>CAASPP Reported Enrollment-Dummy</th>\n",
       "      <th>Enrollment K-12</th>\n",
       "      <th>Enrollment K-12-Dummy</th>\n",
       "      <th>Total Revenue per Pupil</th>\n",
       "      <th>Free Meal Count K-12</th>\n",
       "      <th>Current Expense Per ADA</th>\n",
       "      <th>Female</th>\n",
       "      <th>Female-Dummy</th>\n",
       "      <th>...</th>\n",
       "      <th>&lt; High School</th>\n",
       "      <th>&lt; High School-Dummy</th>\n",
       "      <th>High School Grad</th>\n",
       "      <th>High School Grad-Dummy</th>\n",
       "      <th>Some College</th>\n",
       "      <th>Some College-Dummy</th>\n",
       "      <th>College Grad</th>\n",
       "      <th>College Grad-Dummy</th>\n",
       "      <th>Graduate School</th>\n",
       "      <th>Graduate School-Dummy</th>\n",
       "    </tr>\n",
       "  </thead>\n",
       "  <tbody>\n",
       "    <tr>\n",
       "      <th>0</th>\n",
       "      <td>64738.0</td>\n",
       "      <td>58.0</td>\n",
       "      <td>1</td>\n",
       "      <td>88.0</td>\n",
       "      <td>1</td>\n",
       "      <td>12626.0</td>\n",
       "      <td>41.0</td>\n",
       "      <td>11384.420846</td>\n",
       "      <td>55.17</td>\n",
       "      <td>1</td>\n",
       "      <td>...</td>\n",
       "      <td>10.34</td>\n",
       "      <td>1</td>\n",
       "      <td>22.41</td>\n",
       "      <td>1</td>\n",
       "      <td>37.93</td>\n",
       "      <td>1</td>\n",
       "      <td>15.52</td>\n",
       "      <td>1</td>\n",
       "      <td>6.90</td>\n",
       "      <td>1</td>\n",
       "    </tr>\n",
       "    <tr>\n",
       "      <th>1</th>\n",
       "      <td>84051.0</td>\n",
       "      <td>447.0</td>\n",
       "      <td>1</td>\n",
       "      <td>739.0</td>\n",
       "      <td>1</td>\n",
       "      <td>13641.0</td>\n",
       "      <td>246.0</td>\n",
       "      <td>10758.663825</td>\n",
       "      <td>47.87</td>\n",
       "      <td>1</td>\n",
       "      <td>...</td>\n",
       "      <td>3.36</td>\n",
       "      <td>1</td>\n",
       "      <td>9.84</td>\n",
       "      <td>1</td>\n",
       "      <td>19.02</td>\n",
       "      <td>1</td>\n",
       "      <td>30.87</td>\n",
       "      <td>1</td>\n",
       "      <td>27.07</td>\n",
       "      <td>1</td>\n",
       "    </tr>\n",
       "    <tr>\n",
       "      <th>2</th>\n",
       "      <td>48345.0</td>\n",
       "      <td>192.0</td>\n",
       "      <td>1</td>\n",
       "      <td>366.0</td>\n",
       "      <td>1</td>\n",
       "      <td>14695.0</td>\n",
       "      <td>187.0</td>\n",
       "      <td>12964.447700</td>\n",
       "      <td>55.21</td>\n",
       "      <td>1</td>\n",
       "      <td>...</td>\n",
       "      <td>0.00</td>\n",
       "      <td>0</td>\n",
       "      <td>6.77</td>\n",
       "      <td>1</td>\n",
       "      <td>7.29</td>\n",
       "      <td>1</td>\n",
       "      <td>17.19</td>\n",
       "      <td>1</td>\n",
       "      <td>3.12</td>\n",
       "      <td>1</td>\n",
       "    </tr>\n",
       "    <tr>\n",
       "      <th>3</th>\n",
       "      <td>64089.0</td>\n",
       "      <td>585.0</td>\n",
       "      <td>1</td>\n",
       "      <td>611.0</td>\n",
       "      <td>1</td>\n",
       "      <td>13166.0</td>\n",
       "      <td>422.0</td>\n",
       "      <td>10744.324251</td>\n",
       "      <td>47.18</td>\n",
       "      <td>1</td>\n",
       "      <td>...</td>\n",
       "      <td>38.12</td>\n",
       "      <td>1</td>\n",
       "      <td>28.72</td>\n",
       "      <td>1</td>\n",
       "      <td>14.02</td>\n",
       "      <td>1</td>\n",
       "      <td>6.67</td>\n",
       "      <td>1</td>\n",
       "      <td>2.56</td>\n",
       "      <td>1</td>\n",
       "    </tr>\n",
       "    <tr>\n",
       "      <th>4</th>\n",
       "      <td>57470.0</td>\n",
       "      <td>184.0</td>\n",
       "      <td>1</td>\n",
       "      <td>371.0</td>\n",
       "      <td>1</td>\n",
       "      <td>14788.0</td>\n",
       "      <td>262.0</td>\n",
       "      <td>15524.553854</td>\n",
       "      <td>50.00</td>\n",
       "      <td>1</td>\n",
       "      <td>...</td>\n",
       "      <td>44.57</td>\n",
       "      <td>1</td>\n",
       "      <td>29.89</td>\n",
       "      <td>1</td>\n",
       "      <td>13.04</td>\n",
       "      <td>1</td>\n",
       "      <td>8.15</td>\n",
       "      <td>1</td>\n",
       "      <td>0.00</td>\n",
       "      <td>0</td>\n",
       "    </tr>\n",
       "    <tr>\n",
       "      <th>...</th>\n",
       "      <td>...</td>\n",
       "      <td>...</td>\n",
       "      <td>...</td>\n",
       "      <td>...</td>\n",
       "      <td>...</td>\n",
       "      <td>...</td>\n",
       "      <td>...</td>\n",
       "      <td>...</td>\n",
       "      <td>...</td>\n",
       "      <td>...</td>\n",
       "      <td>...</td>\n",
       "      <td>...</td>\n",
       "      <td>...</td>\n",
       "      <td>...</td>\n",
       "      <td>...</td>\n",
       "      <td>...</td>\n",
       "      <td>...</td>\n",
       "      <td>...</td>\n",
       "      <td>...</td>\n",
       "      <td>...</td>\n",
       "      <td>...</td>\n",
       "    </tr>\n",
       "    <tr>\n",
       "      <th>9641</th>\n",
       "      <td>89403.0</td>\n",
       "      <td>52.0</td>\n",
       "      <td>1</td>\n",
       "      <td>73.0</td>\n",
       "      <td>1</td>\n",
       "      <td>3811.0</td>\n",
       "      <td>28.0</td>\n",
       "      <td>14260.002822</td>\n",
       "      <td>63.46</td>\n",
       "      <td>1</td>\n",
       "      <td>...</td>\n",
       "      <td>0.00</td>\n",
       "      <td>0</td>\n",
       "      <td>0.00</td>\n",
       "      <td>0</td>\n",
       "      <td>21.15</td>\n",
       "      <td>1</td>\n",
       "      <td>34.62</td>\n",
       "      <td>1</td>\n",
       "      <td>23.08</td>\n",
       "      <td>1</td>\n",
       "    </tr>\n",
       "    <tr>\n",
       "      <th>9642</th>\n",
       "      <td>105659.0</td>\n",
       "      <td>64.0</td>\n",
       "      <td>1</td>\n",
       "      <td>119.0</td>\n",
       "      <td>1</td>\n",
       "      <td>3811.0</td>\n",
       "      <td>35.0</td>\n",
       "      <td>14260.002822</td>\n",
       "      <td>43.75</td>\n",
       "      <td>1</td>\n",
       "      <td>...</td>\n",
       "      <td>-1.00</td>\n",
       "      <td>0</td>\n",
       "      <td>0.00</td>\n",
       "      <td>0</td>\n",
       "      <td>26.56</td>\n",
       "      <td>1</td>\n",
       "      <td>25.00</td>\n",
       "      <td>1</td>\n",
       "      <td>15.62</td>\n",
       "      <td>1</td>\n",
       "    </tr>\n",
       "    <tr>\n",
       "      <th>9643</th>\n",
       "      <td>94173.0</td>\n",
       "      <td>405.0</td>\n",
       "      <td>1</td>\n",
       "      <td>702.0</td>\n",
       "      <td>1</td>\n",
       "      <td>15219.0</td>\n",
       "      <td>373.0</td>\n",
       "      <td>12964.578388</td>\n",
       "      <td>53.83</td>\n",
       "      <td>1</td>\n",
       "      <td>...</td>\n",
       "      <td>-1.00</td>\n",
       "      <td>0</td>\n",
       "      <td>2.22</td>\n",
       "      <td>1</td>\n",
       "      <td>6.17</td>\n",
       "      <td>1</td>\n",
       "      <td>4.44</td>\n",
       "      <td>1</td>\n",
       "      <td>1.23</td>\n",
       "      <td>1</td>\n",
       "    </tr>\n",
       "    <tr>\n",
       "      <th>9644</th>\n",
       "      <td>42404.0</td>\n",
       "      <td>184.0</td>\n",
       "      <td>1</td>\n",
       "      <td>509.0</td>\n",
       "      <td>1</td>\n",
       "      <td>14107.0</td>\n",
       "      <td>414.0</td>\n",
       "      <td>12983.994377</td>\n",
       "      <td>58.70</td>\n",
       "      <td>1</td>\n",
       "      <td>...</td>\n",
       "      <td>34.24</td>\n",
       "      <td>1</td>\n",
       "      <td>25.54</td>\n",
       "      <td>1</td>\n",
       "      <td>19.02</td>\n",
       "      <td>1</td>\n",
       "      <td>5.43</td>\n",
       "      <td>1</td>\n",
       "      <td>4.89</td>\n",
       "      <td>1</td>\n",
       "    </tr>\n",
       "    <tr>\n",
       "      <th>9645</th>\n",
       "      <td>34566.0</td>\n",
       "      <td>77.0</td>\n",
       "      <td>1</td>\n",
       "      <td>68.0</td>\n",
       "      <td>1</td>\n",
       "      <td>14392.0</td>\n",
       "      <td>64.0</td>\n",
       "      <td>14648.518115</td>\n",
       "      <td>45.45</td>\n",
       "      <td>1</td>\n",
       "      <td>...</td>\n",
       "      <td>40.26</td>\n",
       "      <td>1</td>\n",
       "      <td>16.88</td>\n",
       "      <td>1</td>\n",
       "      <td>27.27</td>\n",
       "      <td>1</td>\n",
       "      <td>5.19</td>\n",
       "      <td>1</td>\n",
       "      <td>0.00</td>\n",
       "      <td>0</td>\n",
       "    </tr>\n",
       "  </tbody>\n",
       "</table>\n",
       "<p>9646 rows × 40 columns</p>\n",
       "</div>"
      ],
      "text/plain": [
       "      Median Household Income  CAASPP Reported Enrollment  \\\n",
       "0                     64738.0                        58.0   \n",
       "1                     84051.0                       447.0   \n",
       "2                     48345.0                       192.0   \n",
       "3                     64089.0                       585.0   \n",
       "4                     57470.0                       184.0   \n",
       "...                       ...                         ...   \n",
       "9641                  89403.0                        52.0   \n",
       "9642                 105659.0                        64.0   \n",
       "9643                  94173.0                       405.0   \n",
       "9644                  42404.0                       184.0   \n",
       "9645                  34566.0                        77.0   \n",
       "\n",
       "      CAASPP Reported Enrollment-Dummy  Enrollment K-12  \\\n",
       "0                                    1             88.0   \n",
       "1                                    1            739.0   \n",
       "2                                    1            366.0   \n",
       "3                                    1            611.0   \n",
       "4                                    1            371.0   \n",
       "...                                ...              ...   \n",
       "9641                                 1             73.0   \n",
       "9642                                 1            119.0   \n",
       "9643                                 1            702.0   \n",
       "9644                                 1            509.0   \n",
       "9645                                 1             68.0   \n",
       "\n",
       "      Enrollment K-12-Dummy  Total Revenue per Pupil  Free Meal Count K-12  \\\n",
       "0                         1                  12626.0                  41.0   \n",
       "1                         1                  13641.0                 246.0   \n",
       "2                         1                  14695.0                 187.0   \n",
       "3                         1                  13166.0                 422.0   \n",
       "4                         1                  14788.0                 262.0   \n",
       "...                     ...                      ...                   ...   \n",
       "9641                      1                   3811.0                  28.0   \n",
       "9642                      1                   3811.0                  35.0   \n",
       "9643                      1                  15219.0                 373.0   \n",
       "9644                      1                  14107.0                 414.0   \n",
       "9645                      1                  14392.0                  64.0   \n",
       "\n",
       "      Current Expense Per ADA  Female  Female-Dummy  ...  < High School  \\\n",
       "0                11384.420846   55.17             1  ...          10.34   \n",
       "1                10758.663825   47.87             1  ...           3.36   \n",
       "2                12964.447700   55.21             1  ...           0.00   \n",
       "3                10744.324251   47.18             1  ...          38.12   \n",
       "4                15524.553854   50.00             1  ...          44.57   \n",
       "...                       ...     ...           ...  ...            ...   \n",
       "9641             14260.002822   63.46             1  ...           0.00   \n",
       "9642             14260.002822   43.75             1  ...          -1.00   \n",
       "9643             12964.578388   53.83             1  ...          -1.00   \n",
       "9644             12983.994377   58.70             1  ...          34.24   \n",
       "9645             14648.518115   45.45             1  ...          40.26   \n",
       "\n",
       "      < High School-Dummy  High School Grad  High School Grad-Dummy  \\\n",
       "0                       1             22.41                       1   \n",
       "1                       1              9.84                       1   \n",
       "2                       0              6.77                       1   \n",
       "3                       1             28.72                       1   \n",
       "4                       1             29.89                       1   \n",
       "...                   ...               ...                     ...   \n",
       "9641                    0              0.00                       0   \n",
       "9642                    0              0.00                       0   \n",
       "9643                    0              2.22                       1   \n",
       "9644                    1             25.54                       1   \n",
       "9645                    1             16.88                       1   \n",
       "\n",
       "      Some College  Some College-Dummy  College Grad  College Grad-Dummy  \\\n",
       "0            37.93                   1         15.52                   1   \n",
       "1            19.02                   1         30.87                   1   \n",
       "2             7.29                   1         17.19                   1   \n",
       "3            14.02                   1          6.67                   1   \n",
       "4            13.04                   1          8.15                   1   \n",
       "...            ...                 ...           ...                 ...   \n",
       "9641         21.15                   1         34.62                   1   \n",
       "9642         26.56                   1         25.00                   1   \n",
       "9643          6.17                   1          4.44                   1   \n",
       "9644         19.02                   1          5.43                   1   \n",
       "9645         27.27                   1          5.19                   1   \n",
       "\n",
       "      Graduate School  Graduate School-Dummy  \n",
       "0                6.90                      1  \n",
       "1               27.07                      1  \n",
       "2                3.12                      1  \n",
       "3                2.56                      1  \n",
       "4                0.00                      0  \n",
       "...               ...                    ...  \n",
       "9641            23.08                      1  \n",
       "9642            15.62                      1  \n",
       "9643             1.23                      1  \n",
       "9644             4.89                      1  \n",
       "9645             0.00                      0  \n",
       "\n",
       "[9646 rows x 40 columns]"
      ]
     },
     "execution_count": 128,
     "metadata": {},
     "output_type": "execute_result"
    }
   ],
   "source": [
    "X"
   ]
  },
  {
   "cell_type": "markdown",
   "metadata": {},
   "source": [
    "# LASSO"
   ]
  },
  {
   "cell_type": "code",
   "execution_count": null,
   "metadata": {},
   "outputs": [],
   "source": []
  },
  {
   "cell_type": "code",
   "execution_count": null,
   "metadata": {},
   "outputs": [],
   "source": []
  },
  {
   "cell_type": "code",
   "execution_count": null,
   "metadata": {},
   "outputs": [],
   "source": []
  },
  {
   "cell_type": "code",
   "execution_count": null,
   "metadata": {},
   "outputs": [],
   "source": []
  },
  {
   "cell_type": "code",
   "execution_count": null,
   "metadata": {},
   "outputs": [],
   "source": []
  },
  {
   "cell_type": "markdown",
   "metadata": {},
   "source": [
    "# RANDOM FOREST"
   ]
  },
  {
   "cell_type": "code",
   "execution_count": 129,
   "metadata": {},
   "outputs": [],
   "source": [
    "# exclude the columns below as the explanatory variables X \n",
    "X = language_df.drop(['Percentage Standard Met and Above', 'Male', 'Male-Dummy','Non Military',\n",
    "       'Non Military-Dummy', 'Non Homeless', 'Total Expenditures per Pupil',\n",
    "       'Non Homeless-Dummy', 'Not Disadvantaged', 'Not Disadvantaged-Dummy'], axis=1)\n",
    "\n",
    "y = language_df['Percentage Standard Met and Above']"
   ]
  },
  {
   "cell_type": "code",
   "execution_count": 130,
   "metadata": {},
   "outputs": [],
   "source": [
    "# RandomForestRegressor() with a random state of 47\n",
    "RF_pipe = make_pipeline(\n",
    "    StandardScaler(),\n",
    "    RandomForestRegressor(random_state=47)\n",
    ")"
   ]
  },
  {
   "cell_type": "code",
   "execution_count": 131,
   "metadata": {},
   "outputs": [],
   "source": [
    "# 10-fold cross-validation\n",
    "rf_default_cv_results = cross_validate(RF_pipe, X_train, y_train, cv=10)"
   ]
  },
  {
   "cell_type": "code",
   "execution_count": 132,
   "metadata": {},
   "outputs": [
    {
     "data": {
      "text/plain": [
       "array([0.75356422, 0.71953916, 0.7555744 , 0.75236065, 0.72267707,\n",
       "       0.75222962, 0.7540604 , 0.75886727, 0.73797316, 0.76794189])"
      ]
     },
     "execution_count": 132,
     "metadata": {},
     "output_type": "execute_result"
    }
   ],
   "source": [
    "rf_cv_scores = rf_default_cv_results['test_score']\n",
    "rf_cv_scores"
   ]
  },
  {
   "cell_type": "code",
   "execution_count": 133,
   "metadata": {},
   "outputs": [
    {
     "data": {
      "text/plain": [
       "(0.7474787849303391, 0.014922577268393937)"
      ]
     },
     "execution_count": 133,
     "metadata": {},
     "output_type": "execute_result"
    }
   ],
   "source": [
    "np.mean(rf_cv_scores), np.std(rf_cv_scores)"
   ]
  },
  {
   "cell_type": "code",
   "execution_count": 137,
   "metadata": {},
   "outputs": [
    {
     "data": {
      "text/plain": [
       "{'randomforestregressor__n_estimators': [10,\n",
       "  12,\n",
       "  16,\n",
       "  20,\n",
       "  26,\n",
       "  33,\n",
       "  42,\n",
       "  54,\n",
       "  69,\n",
       "  88,\n",
       "  112,\n",
       "  143,\n",
       "  183,\n",
       "  233,\n",
       "  297,\n",
       "  379,\n",
       "  483,\n",
       "  615,\n",
       "  784,\n",
       "  1000],\n",
       " 'standardscaler': [StandardScaler(), None]}"
      ]
     },
     "execution_count": 137,
     "metadata": {},
     "output_type": "execute_result"
    }
   ],
   "source": [
    "n_est = [int(n) for n in np.logspace(start=1, stop=3, num=20)]\n",
    "grid_params = {\n",
    "        'randomforestregressor__n_estimators': n_est,\n",
    "        'standardscaler': [StandardScaler(), None]\n",
    "}\n",
    "grid_params"
   ]
  },
  {
   "cell_type": "code",
   "execution_count": 140,
   "metadata": {},
   "outputs": [],
   "source": [
    "#Call `GridSearchCV` with the random forest pipeline, passing in the above `grid_params`\n",
    "rf_grid_cv = GridSearchCV(RF_pipe, param_grid=grid_params, cv=5, n_jobs=-1)"
   ]
  },
  {
   "cell_type": "code",
   "execution_count": 142,
   "metadata": {},
   "outputs": [],
   "source": [
    "#rf_grid_cv.fit(X_train, y_train)"
   ]
  },
  {
   "cell_type": "code",
   "execution_count": null,
   "metadata": {},
   "outputs": [],
   "source": [
    "rf_grid_cv.best_params_"
   ]
  },
  {
   "cell_type": "code",
   "execution_count": null,
   "metadata": {},
   "outputs": [],
   "source": [
    "rf_best_cv_results = cross_validate(rf_grid_cv.best_estimator_, X_train, y_train, cv=5)\n",
    "rf_best_scores = rf_best_cv_results['test_score']\n",
    "rf_best_scores"
   ]
  },
  {
   "cell_type": "code",
   "execution_count": null,
   "metadata": {},
   "outputs": [],
   "source": [
    "np.mean(rf_best_scores), np.std(rf_best_scores)"
   ]
  },
  {
   "cell_type": "code",
   "execution_count": null,
   "metadata": {},
   "outputs": [],
   "source": [
    "#training data column names, sorting the values in descending order\n",
    "plt.subplots(figsize=(10, 5))\n",
    "imps = rf_grid_cv.best_estimator_.named_steps.randomforestregressor.feature_importances_\n",
    "rf_feat_imps = pd.Series(imps, index=X_train.columns).sort_values(ascending=False)\n",
    "rf_feat_imps.plot(kind='bar')\n",
    "plt.xlabel('features')\n",
    "plt.ylabel('importance')\n",
    "plt.title('Best random forest regressor feature importances');"
   ]
  },
  {
   "cell_type": "markdown",
   "metadata": {},
   "source": [
    "# GRADIENT BOOSTING"
   ]
  },
  {
   "cell_type": "code",
   "execution_count": null,
   "metadata": {},
   "outputs": [],
   "source": []
  },
  {
   "cell_type": "code",
   "execution_count": null,
   "metadata": {},
   "outputs": [],
   "source": []
  },
  {
   "cell_type": "code",
   "execution_count": null,
   "metadata": {},
   "outputs": [],
   "source": []
  },
  {
   "cell_type": "code",
   "execution_count": null,
   "metadata": {},
   "outputs": [],
   "source": []
  },
  {
   "cell_type": "code",
   "execution_count": null,
   "metadata": {},
   "outputs": [],
   "source": []
  },
  {
   "cell_type": "code",
   "execution_count": null,
   "metadata": {},
   "outputs": [],
   "source": []
  },
  {
   "cell_type": "markdown",
   "metadata": {},
   "source": [
    "# LOGISTIC REGRESSION"
   ]
  },
  {
   "cell_type": "code",
   "execution_count": null,
   "metadata": {},
   "outputs": [],
   "source": []
  },
  {
   "cell_type": "code",
   "execution_count": null,
   "metadata": {},
   "outputs": [],
   "source": []
  },
  {
   "cell_type": "code",
   "execution_count": null,
   "metadata": {},
   "outputs": [],
   "source": []
  },
  {
   "cell_type": "code",
   "execution_count": null,
   "metadata": {},
   "outputs": [],
   "source": []
  },
  {
   "cell_type": "code",
   "execution_count": null,
   "metadata": {},
   "outputs": [],
   "source": []
  },
  {
   "cell_type": "code",
   "execution_count": null,
   "metadata": {},
   "outputs": [],
   "source": []
  },
  {
   "cell_type": "code",
   "execution_count": null,
   "metadata": {},
   "outputs": [],
   "source": []
  },
  {
   "cell_type": "markdown",
   "metadata": {},
   "source": [
    "## Cross Validation\n",
    "- Performance Evaluation\n",
    "\n",
    "Cross validation is a technique for assessing how the statistical analysis generalises to an independent data set.It is a technique for evaluating machine learning models by training several models on subsets of the available input data and evaluating them on the complementary subset of the data. Using cross-validation, there are high chances that we can detect over-fitting with ease"
   ]
  },
  {
   "cell_type": "code",
   "execution_count": null,
   "metadata": {},
   "outputs": [],
   "source": []
  },
  {
   "cell_type": "code",
   "execution_count": null,
   "metadata": {},
   "outputs": [],
   "source": []
  },
  {
   "cell_type": "code",
   "execution_count": null,
   "metadata": {},
   "outputs": [],
   "source": []
  },
  {
   "cell_type": "markdown",
   "metadata": {},
   "source": [
    "## Confusion Matrix\n",
    "- Access classification model performance"
   ]
  },
  {
   "cell_type": "code",
   "execution_count": null,
   "metadata": {},
   "outputs": [],
   "source": []
  }
 ],
 "metadata": {
  "kernelspec": {
   "display_name": "Python 3",
   "language": "python",
   "name": "python3"
  },
  "language_info": {
   "codemirror_mode": {
    "name": "ipython",
    "version": 3
   },
   "file_extension": ".py",
   "mimetype": "text/x-python",
   "name": "python",
   "nbconvert_exporter": "python",
   "pygments_lexer": "ipython3",
   "version": "3.7.6"
  }
 },
 "nbformat": 4,
 "nbformat_minor": 4
}
